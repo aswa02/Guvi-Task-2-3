{
  "cells": [
    {
      "cell_type": "markdown",
      "metadata": {
        "id": "view-in-github",
        "colab_type": "text"
      },
      "source": [
        "<a href=\"https://colab.research.google.com/github/aswa02/Guvi-Task-2-3/blob/main/Task_2_Numpy.ipynb\" target=\"_parent\"><img src=\"https://colab.research.google.com/assets/colab-badge.svg\" alt=\"Open In Colab\"/></a>"
      ]
    },
    {
      "cell_type": "markdown",
      "metadata": {
        "id": "4hJulJ8kj8Nb"
      },
      "source": [
        "# Numpy\n",
        "\n"
      ]
    },
    {
      "cell_type": "markdown",
      "metadata": {
        "id": "elHbUCp_j8Nm"
      },
      "source": [
        "#### 1. Import the numpy package under the name `np` (★☆☆) \n",
        "(**hint**: import … as …)"
      ]
    },
    {
      "cell_type": "code",
      "execution_count": null,
      "metadata": {
        "collapsed": true,
        "id": "OOuwIcjUj8No"
      },
      "outputs": [],
      "source": [
        "import numpy as np"
      ]
    },
    {
      "cell_type": "markdown",
      "metadata": {
        "id": "WSLBu1gBj8Nr"
      },
      "source": [
        "#### 2. Print the numpy version and the configuration (★☆☆) \n",
        "(**hint**: np.\\_\\_version\\_\\_, np.show\\_config)"
      ]
    },
    {
      "cell_type": "code",
      "execution_count": null,
      "metadata": {
        "id": "ovxl-JjEj8Ns",
        "colab": {
          "base_uri": "https://localhost:8080/",
          "height": 35
        },
        "outputId": "fd578d55-3e30-4781-8372-649d91d2c795"
      },
      "outputs": [
        {
          "output_type": "execute_result",
          "data": {
            "text/plain": [
              "'1.21.6'"
            ],
            "application/vnd.google.colaboratory.intrinsic+json": {
              "type": "string"
            }
          },
          "metadata": {},
          "execution_count": 2
        }
      ],
      "source": [
        "#Numpy version\n",
        "np.__version__"
      ]
    },
    {
      "cell_type": "code",
      "source": [
        "#Numpy configuration\n",
        "np.show_config"
      ],
      "metadata": {
        "colab": {
          "base_uri": "https://localhost:8080/"
        },
        "id": "Q9KwHwfpIv0g",
        "outputId": "e4d37de8-9736-44ff-bba7-d6cdaae930a5"
      },
      "execution_count": null,
      "outputs": [
        {
          "output_type": "execute_result",
          "data": {
            "text/plain": [
              "<function numpy.__config__.show()>"
            ]
          },
          "metadata": {},
          "execution_count": 3
        }
      ]
    },
    {
      "cell_type": "markdown",
      "metadata": {
        "id": "XC44HXn6j8Nt"
      },
      "source": [
        "#### 3. Create a null vector of size 10 (★☆☆) \n",
        "(**hint**: np.zeros)"
      ]
    },
    {
      "cell_type": "code",
      "execution_count": null,
      "metadata": {
        "id": "lZ45gFe9j8Nu"
      },
      "outputs": [],
      "source": [
        "a=np.zeros(10)"
      ]
    },
    {
      "cell_type": "code",
      "source": [
        "a"
      ],
      "metadata": {
        "colab": {
          "base_uri": "https://localhost:8080/"
        },
        "id": "V_ka0ahoJTW2",
        "outputId": "f9e78907-98ab-41d3-ccfb-3cfa5b22c206"
      },
      "execution_count": null,
      "outputs": [
        {
          "output_type": "execute_result",
          "data": {
            "text/plain": [
              "array([0., 0., 0., 0., 0., 0., 0., 0., 0., 0.])"
            ]
          },
          "metadata": {},
          "execution_count": 5
        }
      ]
    },
    {
      "cell_type": "markdown",
      "metadata": {
        "id": "bYv3McCGj8Nw"
      },
      "source": [
        "#### 4.  How to find the memory size of any array (★☆☆) \n",
        "(**hint**: size, itemsize)"
      ]
    },
    {
      "cell_type": "code",
      "execution_count": null,
      "metadata": {
        "id": "Ka_PKBS_j8Nx",
        "colab": {
          "base_uri": "https://localhost:8080/"
        },
        "outputId": "de1754cd-523c-4c96-d3d4-7c357d69099e"
      },
      "outputs": [
        {
          "output_type": "stream",
          "name": "stdout",
          "text": [
            "Size of array is 10\n"
          ]
        }
      ],
      "source": [
        "print('Size of array is',a.size)"
      ]
    },
    {
      "cell_type": "markdown",
      "metadata": {
        "id": "ibAyZeD2j8Ny"
      },
      "source": [
        "#### 5.  How to get the documentation of the numpy add function from the command line? (★☆☆) \n",
        "(**hint**: np.info)"
      ]
    },
    {
      "cell_type": "code",
      "execution_count": null,
      "metadata": {
        "collapsed": true,
        "id": "MBhx945xj8Nz",
        "colab": {
          "base_uri": "https://localhost:8080/"
        },
        "outputId": "e7cdfb97-a62b-4e63-c5fb-9906f811df58"
      },
      "outputs": [
        {
          "output_type": "stream",
          "name": "stdout",
          "text": [
            "add(x1, x2, /, out=None, *, where=True, casting='same_kind', order='K', dtype=None, subok=True[, signature, extobj])\n",
            "\n",
            "Add arguments element-wise.\n",
            "\n",
            "Parameters\n",
            "----------\n",
            "x1, x2 : array_like\n",
            "    The arrays to be added.\n",
            "    If ``x1.shape != x2.shape``, they must be broadcastable to a common\n",
            "    shape (which becomes the shape of the output).\n",
            "out : ndarray, None, or tuple of ndarray and None, optional\n",
            "    A location into which the result is stored. If provided, it must have\n",
            "    a shape that the inputs broadcast to. If not provided or None,\n",
            "    a freshly-allocated array is returned. A tuple (possible only as a\n",
            "    keyword argument) must have length equal to the number of outputs.\n",
            "where : array_like, optional\n",
            "    This condition is broadcast over the input. At locations where the\n",
            "    condition is True, the `out` array will be set to the ufunc result.\n",
            "    Elsewhere, the `out` array will retain its original value.\n",
            "    Note that if an uninitialized `out` array is created via the default\n",
            "    ``out=None``, locations within it where the condition is False will\n",
            "    remain uninitialized.\n",
            "**kwargs\n",
            "    For other keyword-only arguments, see the\n",
            "    :ref:`ufunc docs <ufuncs.kwargs>`.\n",
            "\n",
            "Returns\n",
            "-------\n",
            "add : ndarray or scalar\n",
            "    The sum of `x1` and `x2`, element-wise.\n",
            "    This is a scalar if both `x1` and `x2` are scalars.\n",
            "\n",
            "Notes\n",
            "-----\n",
            "Equivalent to `x1` + `x2` in terms of array broadcasting.\n",
            "\n",
            "Examples\n",
            "--------\n",
            ">>> np.add(1.0, 4.0)\n",
            "5.0\n",
            ">>> x1 = np.arange(9.0).reshape((3, 3))\n",
            ">>> x2 = np.arange(3.0)\n",
            ">>> np.add(x1, x2)\n",
            "array([[  0.,   2.,   4.],\n",
            "       [  3.,   5.,   7.],\n",
            "       [  6.,   8.,  10.]])\n",
            "\n",
            "The ``+`` operator can be used as a shorthand for ``np.add`` on ndarrays.\n",
            "\n",
            ">>> x1 = np.arange(9.0).reshape((3, 3))\n",
            ">>> x2 = np.arange(3.0)\n",
            ">>> x1 + x2\n",
            "array([[ 0.,  2.,  4.],\n",
            "       [ 3.,  5.,  7.],\n",
            "       [ 6.,  8., 10.]])\n"
          ]
        }
      ],
      "source": [
        "np.info(np.add)"
      ]
    },
    {
      "cell_type": "markdown",
      "metadata": {
        "id": "g_qcqCYQj8N0"
      },
      "source": [
        "#### 6.  Create a null vector of size 10 but the fifth value which is 1 (★☆☆) \n",
        "(**hint**: array\\[4\\])"
      ]
    },
    {
      "cell_type": "code",
      "execution_count": null,
      "metadata": {
        "id": "y0IL2NcJj8N2",
        "colab": {
          "base_uri": "https://localhost:8080/"
        },
        "outputId": "42c10002-4767-436d-e7c3-c6cf0d84e881"
      },
      "outputs": [
        {
          "output_type": "execute_result",
          "data": {
            "text/plain": [
              "array([0., 0., 0., 0., 1., 0., 0., 0., 0., 0.])"
            ]
          },
          "metadata": {},
          "execution_count": 8
        }
      ],
      "source": [
        "a\n",
        "a[4]=1\n",
        "a"
      ]
    },
    {
      "cell_type": "markdown",
      "metadata": {
        "id": "ljxavuw9j8N3"
      },
      "source": [
        "#### 7.  Create a vector with values ranging from 10 to 49 (★☆☆) \n",
        "(**hint**: np.arange)"
      ]
    },
    {
      "cell_type": "code",
      "execution_count": null,
      "metadata": {
        "id": "0b_VzWsBj8N4",
        "colab": {
          "base_uri": "https://localhost:8080/"
        },
        "outputId": "d23dbc05-b0bd-497f-a35c-35b0c96a5eef"
      },
      "outputs": [
        {
          "output_type": "execute_result",
          "data": {
            "text/plain": [
              "array([10, 11, 12, 13, 14, 15, 16, 17, 18, 19, 20, 21, 22, 23, 24, 25, 26,\n",
              "       27, 28, 29, 30, 31, 32, 33, 34, 35, 36, 37, 38, 39, 40, 41, 42, 43,\n",
              "       44, 45, 46, 47, 48, 49])"
            ]
          },
          "metadata": {},
          "execution_count": 9
        }
      ],
      "source": [
        "V=np.arange(10,50)\n",
        "V"
      ]
    },
    {
      "cell_type": "markdown",
      "metadata": {
        "id": "HUT_sCiUj8N4"
      },
      "source": [
        "#### 8.  Reverse a vector (first element becomes last) (★☆☆) \n",
        "(**hint**: array\\[::-1\\])"
      ]
    },
    {
      "cell_type": "code",
      "execution_count": null,
      "metadata": {
        "id": "8ANw1KCoj8N5",
        "colab": {
          "base_uri": "https://localhost:8080/"
        },
        "outputId": "583b6bb8-686e-43fc-a086-abde9f28aa2c"
      },
      "outputs": [
        {
          "output_type": "execute_result",
          "data": {
            "text/plain": [
              "array([49, 48, 47, 46, 45, 44, 43, 42, 41, 40, 39, 38, 37, 36, 35, 34, 33,\n",
              "       32, 31, 30, 29, 28, 27, 26, 25, 24, 23, 22, 21, 20, 19, 18, 17, 16,\n",
              "       15, 14, 13, 12, 11, 10])"
            ]
          },
          "metadata": {},
          "execution_count": 10
        }
      ],
      "source": [
        "V[::-1]"
      ]
    },
    {
      "cell_type": "markdown",
      "metadata": {
        "id": "4iH-_U_9j8N5"
      },
      "source": [
        "#### 9.  Create a 3x3 matrix with values ranging from 0 to 8 (★☆☆) \n",
        "(**hint**: reshape)"
      ]
    },
    {
      "cell_type": "code",
      "execution_count": null,
      "metadata": {
        "id": "iipMxA4Dj8N6"
      },
      "outputs": [],
      "source": [
        "c=np.arange(0,9)"
      ]
    },
    {
      "cell_type": "code",
      "source": [
        "c"
      ],
      "metadata": {
        "colab": {
          "base_uri": "https://localhost:8080/"
        },
        "id": "DKZwbmyzYLuE",
        "outputId": "845e5f5e-e0f3-42ed-c55e-d7478595a5e2"
      },
      "execution_count": null,
      "outputs": [
        {
          "output_type": "execute_result",
          "data": {
            "text/plain": [
              "array([0, 1, 2, 3, 4, 5, 6, 7, 8])"
            ]
          },
          "metadata": {},
          "execution_count": 12
        }
      ]
    },
    {
      "cell_type": "code",
      "source": [
        "c.reshape(3,3)"
      ],
      "metadata": {
        "colab": {
          "base_uri": "https://localhost:8080/"
        },
        "id": "W50L-YovYMcp",
        "outputId": "154d1750-cd88-4cd1-a08c-32ec387eaa50"
      },
      "execution_count": null,
      "outputs": [
        {
          "output_type": "execute_result",
          "data": {
            "text/plain": [
              "array([[0, 1, 2],\n",
              "       [3, 4, 5],\n",
              "       [6, 7, 8]])"
            ]
          },
          "metadata": {},
          "execution_count": 13
        }
      ]
    },
    {
      "cell_type": "markdown",
      "metadata": {
        "id": "Rc99O-Vbj8N7"
      },
      "source": [
        "#### 10. Find indices of non-zero elements from \\[1,2,0,0,4,0\\] (★☆☆) \n",
        "(**hint**: np.nonzero)"
      ]
    },
    {
      "cell_type": "code",
      "execution_count": null,
      "metadata": {
        "id": "cfvtjmwJj8N8",
        "colab": {
          "base_uri": "https://localhost:8080/"
        },
        "outputId": "2c2d0780-85ce-48a1-ee7d-8437ade6e125"
      },
      "outputs": [
        {
          "output_type": "execute_result",
          "data": {
            "text/plain": [
              "(array([0, 1, 4]),)"
            ]
          },
          "metadata": {},
          "execution_count": 14
        }
      ],
      "source": [
        "np.nonzero([1,2,0,0,4,0])"
      ]
    },
    {
      "cell_type": "markdown",
      "metadata": {
        "id": "Dp32tWO2j8N9"
      },
      "source": [
        "#### 11. Create a 3x3 identity matrix (★☆☆) \n",
        "(**hint**: np.eye)"
      ]
    },
    {
      "cell_type": "code",
      "execution_count": null,
      "metadata": {
        "id": "M-3tQT9Nj8N-",
        "colab": {
          "base_uri": "https://localhost:8080/"
        },
        "outputId": "584d4e41-bfe8-4919-c3ef-777e6b7cd1fb"
      },
      "outputs": [
        {
          "output_type": "execute_result",
          "data": {
            "text/plain": [
              "array([[1., 0., 0.],\n",
              "       [0., 1., 0.],\n",
              "       [0., 0., 1.]])"
            ]
          },
          "metadata": {},
          "execution_count": 15
        }
      ],
      "source": [
        "A= np.eye(3)\n",
        "A"
      ]
    },
    {
      "cell_type": "markdown",
      "metadata": {
        "id": "XWvgLNcFj8N-"
      },
      "source": [
        "#### 12. Create a 3x3x3 array with random values (★☆☆) \n",
        "(**hint**: np.random.random)"
      ]
    },
    {
      "cell_type": "code",
      "execution_count": null,
      "metadata": {
        "collapsed": true,
        "id": "dqINjuoLj8N_",
        "colab": {
          "base_uri": "https://localhost:8080/"
        },
        "outputId": "a30d5fdf-6ce9-4fc5-c4a2-43a253a8fb2e"
      },
      "outputs": [
        {
          "output_type": "execute_result",
          "data": {
            "text/plain": [
              "array([[[0.20118294, 0.9587672 , 0.80812174],\n",
              "        [0.05856669, 0.33886466, 0.55691532],\n",
              "        [0.52795389, 0.36076168, 0.84795367]],\n",
              "\n",
              "       [[0.27694691, 0.15225621, 0.72154652],\n",
              "        [0.99573111, 0.72332593, 0.10420631],\n",
              "        [0.56271309, 0.23095265, 0.40636821]],\n",
              "\n",
              "       [[0.632985  , 0.41094247, 0.88180442],\n",
              "        [0.36732045, 0.85095269, 0.12611774],\n",
              "        [0.42471364, 0.21344661, 0.8961905 ]]])"
            ]
          },
          "metadata": {},
          "execution_count": 16
        }
      ],
      "source": [
        "np.random.random((3,3,3))"
      ]
    },
    {
      "cell_type": "markdown",
      "metadata": {
        "id": "vRGuJZ8Rj8N_"
      },
      "source": [
        "#### 13. Create a 10x10 array with random values and find the minimum and maximum values (★☆☆) \n",
        "(**hint**: min, max)"
      ]
    },
    {
      "cell_type": "code",
      "execution_count": null,
      "metadata": {
        "id": "slX3-X2Tj8N_"
      },
      "outputs": [],
      "source": [
        "S=np.random.random((10,10))"
      ]
    },
    {
      "cell_type": "code",
      "source": [
        "S"
      ],
      "metadata": {
        "colab": {
          "base_uri": "https://localhost:8080/"
        },
        "id": "8Vslzpe8wX0G",
        "outputId": "bdd72139-e50d-4c4a-df37-d4f4cfc8f85d"
      },
      "execution_count": null,
      "outputs": [
        {
          "output_type": "execute_result",
          "data": {
            "text/plain": [
              "array([[0.03629152, 0.579683  , 0.95628927, 0.63426546, 0.32037241,\n",
              "        0.92527677, 0.35876899, 0.80663058, 0.59001744, 0.3213929 ],\n",
              "       [0.06867407, 0.93071414, 0.23096683, 0.8445461 , 0.71475441,\n",
              "        0.78509291, 0.90122648, 0.17905069, 0.56468048, 0.40304565],\n",
              "       [0.50378868, 0.76784937, 0.19393327, 0.03596704, 0.32667214,\n",
              "        0.95780559, 0.46274089, 0.27385004, 0.62942897, 0.4597717 ],\n",
              "       [0.41986521, 0.78664121, 0.12663011, 0.73472206, 0.05541378,\n",
              "        0.52317805, 0.04528357, 0.20708207, 0.667819  , 0.67095978],\n",
              "       [0.6884193 , 0.0876085 , 0.52634885, 0.2174627 , 0.38369593,\n",
              "        0.95774719, 0.97280907, 0.11468426, 0.02727682, 0.69830443],\n",
              "       [0.22821716, 0.29870218, 0.73924958, 0.42055902, 0.99664551,\n",
              "        0.70229949, 0.64066411, 0.95675578, 0.64674366, 0.68852816],\n",
              "       [0.52088631, 0.28261804, 0.98241225, 0.01570913, 0.02202549,\n",
              "        0.20251555, 0.60356785, 0.61514101, 0.60842207, 0.85295636],\n",
              "       [0.69045754, 0.31296203, 0.68131177, 0.39114471, 0.0265565 ,\n",
              "        0.05609085, 0.18818008, 0.58434054, 0.40211465, 0.26627705],\n",
              "       [0.12047843, 0.15828714, 0.98700459, 0.79126411, 0.47579628,\n",
              "        0.99266164, 0.25292174, 0.70507213, 0.17609012, 0.59276251],\n",
              "       [0.49378223, 0.71643675, 0.89472634, 0.26514806, 0.89072245,\n",
              "        0.11075081, 0.0722131 , 0.19971256, 0.49324468, 0.12755898]])"
            ]
          },
          "metadata": {},
          "execution_count": 18
        }
      ]
    },
    {
      "cell_type": "code",
      "source": [
        "S.min()"
      ],
      "metadata": {
        "colab": {
          "base_uri": "https://localhost:8080/"
        },
        "id": "vdb9PI3Zwe2u",
        "outputId": "483e626b-bdc4-4d6b-d2a7-c5c92821a1ce"
      },
      "execution_count": null,
      "outputs": [
        {
          "output_type": "execute_result",
          "data": {
            "text/plain": [
              "0.015709134088325305"
            ]
          },
          "metadata": {},
          "execution_count": 19
        }
      ]
    },
    {
      "cell_type": "code",
      "source": [
        "S.max()"
      ],
      "metadata": {
        "colab": {
          "base_uri": "https://localhost:8080/"
        },
        "id": "RAnTHm4Jwhi3",
        "outputId": "8a954161-d6a4-4351-c278-092c64744ddb"
      },
      "execution_count": null,
      "outputs": [
        {
          "output_type": "execute_result",
          "data": {
            "text/plain": [
              "0.9966455076502101"
            ]
          },
          "metadata": {},
          "execution_count": 20
        }
      ]
    },
    {
      "cell_type": "markdown",
      "metadata": {
        "id": "8MwgxIQQj8OA"
      },
      "source": [
        "#### 14. Create a random vector of size 30 and find the mean value (★☆☆) \n",
        "(**hint**: mean)"
      ]
    },
    {
      "cell_type": "code",
      "source": [
        "D=np.random.random(30)"
      ],
      "metadata": {
        "id": "HIChui3gwdbW"
      },
      "execution_count": null,
      "outputs": []
    },
    {
      "cell_type": "code",
      "execution_count": null,
      "metadata": {
        "id": "0TG5L4KPj8OA",
        "colab": {
          "base_uri": "https://localhost:8080/"
        },
        "outputId": "d6826124-f2fb-405a-b404-920569a85985"
      },
      "outputs": [
        {
          "output_type": "execute_result",
          "data": {
            "text/plain": [
              "array([0.8193967 , 0.02929489, 0.47427513, 0.71990904, 0.28138719,\n",
              "       0.53105292, 0.38507023, 0.07831617, 0.35576124, 0.48360232,\n",
              "       0.10874819, 0.10895842, 0.64041206, 0.36105463, 0.89600508,\n",
              "       0.93924124, 0.39907086, 0.74777332, 0.87186647, 0.76160479,\n",
              "       0.56210735, 0.64287292, 0.12631636, 0.77970517, 0.0205479 ,\n",
              "       0.66093277, 0.88935077, 0.39574175, 0.11502051, 0.39462747])"
            ]
          },
          "metadata": {},
          "execution_count": 22
        }
      ],
      "source": [
        "D"
      ]
    },
    {
      "cell_type": "code",
      "source": [
        "D.mean()"
      ],
      "metadata": {
        "colab": {
          "base_uri": "https://localhost:8080/"
        },
        "id": "V1Na37YvwWl5",
        "outputId": "8c990a8a-84f8-4c28-cb1e-f1b6f94ec425"
      },
      "execution_count": null,
      "outputs": [
        {
          "output_type": "execute_result",
          "data": {
            "text/plain": [
              "0.48600079537933794"
            ]
          },
          "metadata": {},
          "execution_count": 23
        }
      ]
    },
    {
      "cell_type": "markdown",
      "metadata": {
        "id": "3u2kOBXFj8OB"
      },
      "source": [
        "#### 15. Create a 2d array with 1 on the border and 0 inside (★☆☆) \n",
        "(**hint**: array\\[1:-1, 1:-1\\])"
      ]
    },
    {
      "cell_type": "code",
      "execution_count": null,
      "metadata": {
        "id": "sr0TvMPNj8OB"
      },
      "outputs": [],
      "source": [
        "F= np.ones((8,8))"
      ]
    },
    {
      "cell_type": "code",
      "source": [
        "print(F)\n",
        "F[1:-1,1:-1]=0\n",
        "print('array with 1 on the border and 0 inside' )\n",
        "print(F)"
      ],
      "metadata": {
        "colab": {
          "base_uri": "https://localhost:8080/"
        },
        "id": "5p3MEWUuyFaM",
        "outputId": "1ade44a3-3d6a-48e0-dbac-c360ce885ea6"
      },
      "execution_count": null,
      "outputs": [
        {
          "output_type": "stream",
          "name": "stdout",
          "text": [
            "[[1. 1. 1. 1. 1. 1. 1. 1.]\n",
            " [1. 1. 1. 1. 1. 1. 1. 1.]\n",
            " [1. 1. 1. 1. 1. 1. 1. 1.]\n",
            " [1. 1. 1. 1. 1. 1. 1. 1.]\n",
            " [1. 1. 1. 1. 1. 1. 1. 1.]\n",
            " [1. 1. 1. 1. 1. 1. 1. 1.]\n",
            " [1. 1. 1. 1. 1. 1. 1. 1.]\n",
            " [1. 1. 1. 1. 1. 1. 1. 1.]]\n",
            "array with 1 on the border and 0 inside\n",
            "[[1. 1. 1. 1. 1. 1. 1. 1.]\n",
            " [1. 0. 0. 0. 0. 0. 0. 1.]\n",
            " [1. 0. 0. 0. 0. 0. 0. 1.]\n",
            " [1. 0. 0. 0. 0. 0. 0. 1.]\n",
            " [1. 0. 0. 0. 0. 0. 0. 1.]\n",
            " [1. 0. 0. 0. 0. 0. 0. 1.]\n",
            " [1. 0. 0. 0. 0. 0. 0. 1.]\n",
            " [1. 1. 1. 1. 1. 1. 1. 1.]]\n"
          ]
        }
      ]
    },
    {
      "cell_type": "markdown",
      "metadata": {
        "id": "YO3XGmpfj8OB"
      },
      "source": [
        "#### 16. How to add a border (filled with 0's) around an existing array? (★☆☆) \n",
        "(**hint**: np.pad)"
      ]
    },
    {
      "cell_type": "code",
      "execution_count": null,
      "metadata": {
        "id": "4sxD7CeFj8OC"
      },
      "outputs": [],
      "source": [
        "g= np.ones((4,4))"
      ]
    },
    {
      "cell_type": "code",
      "source": [
        "print(g)\n",
        "print('0 as border')\n",
        "g=np.pad(g,pad_width=1,mode='constant',constant_values=0)\n",
        "print(g)"
      ],
      "metadata": {
        "colab": {
          "base_uri": "https://localhost:8080/"
        },
        "id": "UXo_LHjl7IRe",
        "outputId": "0427e60f-3bbb-45e5-b29a-799cf2f3b133"
      },
      "execution_count": null,
      "outputs": [
        {
          "output_type": "stream",
          "name": "stdout",
          "text": [
            "[[1. 1. 1. 1.]\n",
            " [1. 1. 1. 1.]\n",
            " [1. 1. 1. 1.]\n",
            " [1. 1. 1. 1.]]\n",
            "0 as border\n",
            "[[0. 0. 0. 0. 0. 0.]\n",
            " [0. 1. 1. 1. 1. 0.]\n",
            " [0. 1. 1. 1. 1. 0.]\n",
            " [0. 1. 1. 1. 1. 0.]\n",
            " [0. 1. 1. 1. 1. 0.]\n",
            " [0. 0. 0. 0. 0. 0.]]\n"
          ]
        }
      ]
    },
    {
      "cell_type": "markdown",
      "metadata": {
        "id": "TfOHDgkcj8OC"
      },
      "source": [
        "#### 17. What is the result of the following expression? (★☆☆) \n",
        "(**hint**: NaN = not a number, inf = infinity)"
      ]
    },
    {
      "cell_type": "markdown",
      "metadata": {
        "id": "VZ9bpv06j8OD"
      },
      "source": [
        "```python\n",
        "0 * np.nan\n",
        "np.nan == np.nan\n",
        "np.inf > np.nan\n",
        "np.nan - np.nan\n",
        "0.3 == 3 * 0.1\n",
        "```"
      ]
    },
    {
      "cell_type": "code",
      "source": [
        "nan\n",
        "False\n",
        "False\n",
        "nan\n",
        "False"
      ],
      "metadata": {
        "id": "nVZMT908jvTA"
      },
      "execution_count": null,
      "outputs": []
    },
    {
      "cell_type": "markdown",
      "metadata": {
        "id": "LJVd_Li2j8OE"
      },
      "source": [
        "#### 18. Create a 5x5 matrix with values 1,2,3,4 just below the diagonal (★☆☆) \n",
        "(**hint**: np.diag)"
      ]
    },
    {
      "cell_type": "code",
      "execution_count": null,
      "metadata": {
        "id": "NFEtiXZ_j8OE",
        "colab": {
          "base_uri": "https://localhost:8080/"
        },
        "outputId": "5fd50b56-9790-47cb-871c-e2b411271579"
      },
      "outputs": [
        {
          "output_type": "stream",
          "name": "stdout",
          "text": [
            "[[0 0 0 0 0]\n",
            " [1 0 0 0 0]\n",
            " [0 2 0 0 0]\n",
            " [0 0 3 0 0]\n",
            " [0 0 0 4 0]]\n"
          ]
        }
      ],
      "source": [
        "h = np.diag(1+np.arange(4),k=-1)\n",
        "print(h)\n"
      ]
    },
    {
      "cell_type": "markdown",
      "metadata": {
        "id": "yrN9_Yyqj8OF"
      },
      "source": [
        "#### 19. Create a 8x8 matrix and fill it with a checkerboard pattern (★☆☆) \n",
        "(**hint**: array\\[::2\\])"
      ]
    },
    {
      "cell_type": "code",
      "execution_count": null,
      "metadata": {
        "id": "Boz27C43j8OF",
        "colab": {
          "base_uri": "https://localhost:8080/"
        },
        "outputId": "35791669-e67f-4ddf-8d68-d35384dc06f2"
      },
      "outputs": [
        {
          "output_type": "stream",
          "name": "stdout",
          "text": [
            "[[0 1 0 1 0 1 0 1]\n",
            " [1 0 1 0 1 0 1 0]\n",
            " [0 1 0 1 0 1 0 1]\n",
            " [1 0 1 0 1 0 1 0]\n",
            " [0 1 0 1 0 1 0 1]\n",
            " [1 0 1 0 1 0 1 0]\n",
            " [0 1 0 1 0 1 0 1]\n",
            " [1 0 1 0 1 0 1 0]]\n"
          ]
        }
      ],
      "source": [
        "Z = np.zeros((8,8),dtype=int)\n",
        "Z[1::2,::2] = 1\n",
        "Z[::2,1::2] = 1\n",
        "print(Z)"
      ]
    },
    {
      "cell_type": "markdown",
      "metadata": {
        "id": "0OUJAr7yj8OF"
      },
      "source": [
        "#### 20. Consider a (6,7,8) shape array, what is the index (x,y,z) of the 100th element? \n",
        "(**hint**: np.unravel_index)"
      ]
    },
    {
      "cell_type": "code",
      "execution_count": null,
      "metadata": {
        "id": "h9qFsEL2j8OH",
        "colab": {
          "base_uri": "https://localhost:8080/"
        },
        "outputId": "46a2c3d2-f471-4b23-dac6-16c2ea4f9d86"
      },
      "outputs": [
        {
          "output_type": "stream",
          "name": "stdout",
          "text": [
            "(1, 5, 4)\n"
          ]
        }
      ],
      "source": [
        "print (np.unravel_index(100, (6,7,8)))"
      ]
    },
    {
      "cell_type": "markdown",
      "metadata": {
        "id": "rJaNf4JUj8OI"
      },
      "source": [
        "#### 21. Create a checkerboard 8x8 matrix using the tile function (★☆☆) \n",
        "(**hint**: np.tile)"
      ]
    },
    {
      "cell_type": "code",
      "execution_count": null,
      "metadata": {
        "id": "3yNhLXMsj8OJ",
        "colab": {
          "base_uri": "https://localhost:8080/"
        },
        "outputId": "7aade517-285b-4ac3-eca7-2048c6c63855"
      },
      "outputs": [
        {
          "output_type": "stream",
          "name": "stdout",
          "text": [
            "[[0 1 0 1 0 1 0 1]\n",
            " [1 0 1 0 1 0 1 0]\n",
            " [0 1 0 1 0 1 0 1]\n",
            " [1 0 1 0 1 0 1 0]\n",
            " [0 1 0 1 0 1 0 1]\n",
            " [1 0 1 0 1 0 1 0]\n",
            " [0 1 0 1 0 1 0 1]\n",
            " [1 0 1 0 1 0 1 0]]\n"
          ]
        }
      ],
      "source": [
        "array= np.array([[0,1], [1,0]])\n",
        "Z = np.tile(array,(4,4))\n",
        "print (Z)"
      ]
    },
    {
      "cell_type": "markdown",
      "metadata": {
        "id": "rpS4D7Y-j8OJ"
      },
      "source": [
        "#### 22. Normalize a 5x5 random matrix (★☆☆) \n",
        "(**hint**: (x - min) / (max - min))"
      ]
    },
    {
      "cell_type": "code",
      "execution_count": null,
      "metadata": {
        "id": "fQmh-_fGj8OJ",
        "colab": {
          "base_uri": "https://localhost:8080/"
        },
        "outputId": "9981a95d-8c12-4e68-9b84-54209127085a"
      },
      "outputs": [
        {
          "output_type": "stream",
          "name": "stdout",
          "text": [
            "[[0.6673933  0.85123418 0.84051393 0.06510867 0.97955899]\n",
            " [0.32789693 0.62171003 0.6635572  0.78427129 0.20857477]\n",
            " [0.40873219 0.91772786 0.         0.6794277  0.27925822]\n",
            " [1.         0.62071869 0.97393786 0.65960388 0.79818967]\n",
            " [0.83637636 0.84118175 0.21802372 0.99866907 0.15673345]]\n"
          ]
        }
      ],
      "source": [
        "x= np.random.random((5,5))\n",
        "X=(x-x.min())/(x.max()- x.min())\n",
        "\n",
        "print (X)"
      ]
    },
    {
      "cell_type": "markdown",
      "metadata": {
        "id": "C3GeP-lfj8OK"
      },
      "source": [
        "#### 23. Create a custom dtype that describes a color as four unsigned bytes (RGBA) (★☆☆) \n",
        "(**hint**: np.dtype)"
      ]
    },
    {
      "cell_type": "code",
      "source": [
        "color = np.dtype([(\"r\", np.ubyte, 1),\n",
        "                  (\"g\", np.ubyte, 1),\n",
        "                  (\"b\", np.ubyte, 1),\n",
        "                  (\"a\", np.ubyte, 1)])"
      ],
      "metadata": {
        "id": "pLN1RejDPzxG",
        "colab": {
          "base_uri": "https://localhost:8080/"
        },
        "outputId": "8b477e9e-f27b-4ddf-cfe2-0ec1ff0af460"
      },
      "execution_count": null,
      "outputs": [
        {
          "output_type": "stream",
          "name": "stderr",
          "text": [
            "/usr/local/lib/python3.7/dist-packages/ipykernel_launcher.py:4: FutureWarning: Passing (type, 1) or '1type' as a synonym of type is deprecated; in a future version of numpy, it will be understood as (type, (1,)) / '(1,)type'.\n",
            "  after removing the cwd from sys.path.\n"
          ]
        }
      ]
    },
    {
      "cell_type": "markdown",
      "metadata": {
        "id": "yh4z0ASpj8OK"
      },
      "source": [
        "#### 24. Multiply a 5x3 matrix by a 3x2 matrix (real matrix product) (★☆☆) \n",
        "(**hint**: np.dot | @)"
      ]
    },
    {
      "cell_type": "code",
      "execution_count": null,
      "metadata": {
        "id": "fcS5nP9rj8OL",
        "colab": {
          "base_uri": "https://localhost:8080/"
        },
        "outputId": "fe6db29f-3084-455e-80fb-68c1b53fb3e0"
      },
      "outputs": [
        {
          "output_type": "stream",
          "name": "stdout",
          "text": [
            "[[3. 3.]\n",
            " [3. 3.]\n",
            " [3. 3.]\n",
            " [3. 3.]\n",
            " [3. 3.]]\n"
          ]
        }
      ],
      "source": [
        "X = np.ones((5,3)) @ np.ones((3,2))\n",
        "print(X)"
      ]
    },
    {
      "cell_type": "markdown",
      "metadata": {
        "id": "3CRzwWwSj8OL"
      },
      "source": [
        "#### 25. Given a 1D array, negate all elements which are between 3 and 8, in place. (★☆☆) \n",
        "(**hint**: >, <=)"
      ]
    },
    {
      "cell_type": "code",
      "execution_count": null,
      "metadata": {
        "id": "eIK0DcS4j8OM",
        "colab": {
          "base_uri": "https://localhost:8080/"
        },
        "outputId": "4f61ccf6-380e-4073-921a-10b30019f80d"
      },
      "outputs": [
        {
          "output_type": "stream",
          "name": "stdout",
          "text": [
            "[ 0  1  2  3  4  5  6  7  8  9 10]\n"
          ]
        }
      ],
      "source": [
        "Z = np.arange(11)\n",
        "Z[(3 < Z) & (Z <= 8)] *= -1\n",
        "print(Z)"
      ]
    },
    {
      "cell_type": "markdown",
      "metadata": {
        "id": "mmukBZjsj8OM"
      },
      "source": [
        "#### 26. What is the output of the following script? (★☆☆) \n",
        "(**hint**: np.sum)"
      ]
    },
    {
      "cell_type": "markdown",
      "metadata": {
        "id": "Npe0sbLvj8ON"
      },
      "source": [
        "```python\n",
        "# Author: Jake VanderPlas\n",
        "\n",
        "print(sum(range(5),-1))\n",
        "from numpy import *\n",
        "print(sum(range(5),-1))\n",
        "```"
      ]
    },
    {
      "cell_type": "code",
      "execution_count": null,
      "metadata": {
        "id": "csxERW3Bj8ON"
      },
      "outputs": [],
      "source": [
        "9\n",
        "10"
      ]
    },
    {
      "cell_type": "markdown",
      "metadata": {
        "id": "MzzwuqR2j8ON"
      },
      "source": [
        "#### 27. Consider an integer vector Z, which of these expressions are legal? (★☆☆)"
      ]
    },
    {
      "cell_type": "markdown",
      "metadata": {
        "id": "4Q4Tt5zgj8OO"
      },
      "source": [
        "```python\n",
        "Z**Z\n",
        "2 << Z >> 2\n",
        "Z <- Z\n",
        "1j*Z\n",
        "Z/1/1\n",
        "Z<Z>Z\n",
        "```"
      ]
    },
    {
      "cell_type": "code",
      "execution_count": null,
      "metadata": {
        "id": "NOaCpby7j8OO",
        "colab": {
          "base_uri": "https://localhost:8080/"
        },
        "outputId": "a847b563-b583-49f0-fede-f27c4c4e5c54"
      },
      "outputs": [
        {
          "output_type": "stream",
          "name": "stdout",
          "text": [
            "[ 0  1  2  3  4  5  6  7  8  9 10]\n",
            "[          1           1           4          27         256        3125\n",
            "       46656      823543    16777216   387420489 10000000000]\n",
            "[  0   1   2   4   8  16  32  64 128 256 512]\n",
            "[False False False False False False False False False False False]\n",
            "[0. +0.j 0. +1.j 0. +2.j 0. +3.j 0. +4.j 0. +5.j 0. +6.j 0. +7.j 0. +8.j\n",
            " 0. +9.j 0.+10.j]\n",
            "[ 0.  1.  2.  3.  4.  5.  6.  7.  8.  9. 10.]\n"
          ]
        }
      ],
      "source": [
        "print(Z)\n",
        "print(Z**Z)\n",
        "print(2<< Z >>2)\n",
        "print(Z<- Z)\n",
        "print(1j*Z)\n",
        "print(Z/1/1)\n",
        "#print(Z<Z>Z) - Error"
      ]
    },
    {
      "cell_type": "markdown",
      "metadata": {
        "id": "wfWMvdbJj8OP"
      },
      "source": [
        "#### 28. What are the result of the following expressions?"
      ]
    },
    {
      "cell_type": "markdown",
      "metadata": {
        "id": "b8ZV4Eb0j8OP"
      },
      "source": [
        "```python\n",
        "np.array(0) / np.array(0)\n",
        "np.array(0) // np.array(0)\n",
        "np.array([np.nan]).astype(int).astype(float)\n",
        "```"
      ]
    },
    {
      "cell_type": "code",
      "execution_count": null,
      "metadata": {
        "id": "Tx4cwPS_j8OQ",
        "colab": {
          "base_uri": "https://localhost:8080/"
        },
        "outputId": "21088477-037e-434d-a4ab-1cfe30c1401a"
      },
      "outputs": [
        {
          "output_type": "stream",
          "name": "stdout",
          "text": [
            "nan\n",
            "0\n",
            "[-9.22337204e+18]\n"
          ]
        },
        {
          "output_type": "stream",
          "name": "stderr",
          "text": [
            "/usr/local/lib/python3.7/dist-packages/ipykernel_launcher.py:1: RuntimeWarning: invalid value encountered in true_divide\n",
            "  \"\"\"Entry point for launching an IPython kernel.\n",
            "/usr/local/lib/python3.7/dist-packages/ipykernel_launcher.py:2: RuntimeWarning: divide by zero encountered in floor_divide\n",
            "  \n"
          ]
        }
      ],
      "source": [
        "print(np.array(0) / np.array(0))\n",
        "print(np.array(0) // np.array(0))\n",
        "print(np.array([np.nan]).astype(int).astype(float))"
      ]
    },
    {
      "cell_type": "markdown",
      "metadata": {
        "id": "1pFsIK1-j8OR"
      },
      "source": [
        "#### 29. How to round away from zero a float array ? (★☆☆) \n",
        "(**hint**: np.uniform, np.copysign, np.ceil, np.abs)"
      ]
    },
    {
      "cell_type": "code",
      "execution_count": null,
      "metadata": {
        "id": "Q0UvDbGLj8OR",
        "colab": {
          "base_uri": "https://localhost:8080/"
        },
        "outputId": "5b2d39fc-56b4-4a3e-b7ac-b4ed2456c4a0"
      },
      "outputs": [
        {
          "output_type": "stream",
          "name": "stdout",
          "text": [
            "[-7.45725251 -8.12787288  9.74085427 -4.2980399  -4.79630291  6.45889908\n",
            " -0.17712769  5.59175978 -9.79098488  9.30071221]\n",
            "[ -8.  -9.  10.  -5.  -5.   7.  -1.   6. -10.  10.]\n"
          ]
        }
      ],
      "source": [
        "\n",
        "Z = np.random.uniform(-10,+10,10)\n",
        "print(Z)\n",
        "print(np.copysign(np.ceil(np.abs(Z)), Z))"
      ]
    },
    {
      "cell_type": "markdown",
      "metadata": {
        "id": "3S2waS4dj8OS"
      },
      "source": [
        "#### 30. How to find common values between two arrays? (★☆☆) \n",
        "(**hint**: np.intersect1d)"
      ]
    },
    {
      "cell_type": "code",
      "execution_count": null,
      "metadata": {
        "id": "UXNA-ak3j8OS",
        "colab": {
          "base_uri": "https://localhost:8080/"
        },
        "outputId": "1441aeb1-9efb-4daa-bd2d-6301decc06c0"
      },
      "outputs": [
        {
          "output_type": "stream",
          "name": "stdout",
          "text": [
            "[ 0  1  2  3  4  5  6  7  8  9 10]\n",
            "[ 6 14 13  4  5  5 10  5 14  1  6]\n",
            "[ 1  4  5  6 10]\n"
          ]
        }
      ],
      "source": [
        "Z1 = np.arange(11)\n",
        "Z2 = np.random.randint(0,15,11)\n",
        "print(Z1)\n",
        "print(Z2)\n",
        "print(np.intersect1d(Z1,Z2))"
      ]
    },
    {
      "cell_type": "markdown",
      "metadata": {
        "id": "Wzy6P9JMj8OS"
      },
      "source": [
        "#### 31. How to ignore all numpy warnings (not recommended)? (★☆☆) \n",
        "(**hint**: np.seterr, np.errstate)"
      ]
    },
    {
      "cell_type": "code",
      "execution_count": null,
      "metadata": {
        "id": "xqUiaY9Mj8OT",
        "colab": {
          "base_uri": "https://localhost:8080/"
        },
        "outputId": "0e20dc66-595c-45c0-cf76-53e2881f72f5"
      },
      "outputs": [
        {
          "output_type": "stream",
          "name": "stderr",
          "text": [
            "/usr/local/lib/python3.7/dist-packages/ipykernel_launcher.py:1: RuntimeWarning: divide by zero encountered in true_divide\n",
            "  \"\"\"Entry point for launching an IPython kernel.\n"
          ]
        },
        {
          "output_type": "execute_result",
          "data": {
            "text/plain": [
              "array([inf])"
            ]
          },
          "metadata": {},
          "execution_count": 57
        }
      ],
      "source": [
        "Z = np.ones(1) / 0\n",
        "Z"
      ]
    },
    {
      "cell_type": "code",
      "source": [
        "defaults = np.seterr(all=\"ignore\")\n",
        "Z"
      ],
      "metadata": {
        "colab": {
          "base_uri": "https://localhost:8080/"
        },
        "id": "XT1Ly4ZV1qbh",
        "outputId": "3df801f3-1dd1-411f-c35e-f34fd060087b"
      },
      "execution_count": null,
      "outputs": [
        {
          "output_type": "execute_result",
          "data": {
            "text/plain": [
              "array([inf])"
            ]
          },
          "metadata": {},
          "execution_count": 58
        }
      ]
    },
    {
      "cell_type": "markdown",
      "metadata": {
        "id": "XX6sZlXbj8OT"
      },
      "source": [
        "#### 32. Is the following expressions true? (★☆☆) \n",
        "(**hint**: imaginary number)"
      ]
    },
    {
      "cell_type": "markdown",
      "metadata": {
        "id": "8wcWjZAnj8OT"
      },
      "source": [
        "```python\n",
        "np.sqrt(-1) == np.emath.sqrt(-1)\n",
        "```"
      ]
    },
    {
      "cell_type": "code",
      "execution_count": null,
      "metadata": {
        "id": "I9nJgdwNj8OU"
      },
      "outputs": [],
      "source": [
        "False"
      ]
    },
    {
      "cell_type": "markdown",
      "metadata": {
        "id": "0xmAhRWtj8OU"
      },
      "source": [
        "#### 33. How to get the dates of yesterday, today and tomorrow? (★☆☆) \n",
        "(**hint**: np.datetime64, np.timedelta64)"
      ]
    },
    {
      "cell_type": "code",
      "execution_count": null,
      "metadata": {
        "collapsed": true,
        "id": "RGdAqlQ_j8OV",
        "colab": {
          "base_uri": "https://localhost:8080/"
        },
        "outputId": "1bd6d3db-2a41-48f9-a43f-1b59a0357c18"
      },
      "outputs": [
        {
          "output_type": "stream",
          "name": "stdout",
          "text": [
            "2022-11-17\n",
            "2022-11-18\n",
            "2022-11-19\n"
          ]
        }
      ],
      "source": [
        "yes = np.datetime64('today') - np.timedelta64(1)\n",
        "today     = np.datetime64('today')\n",
        "tom  = np.datetime64('today') + np.timedelta64(1)\n",
        "print(yes)\n",
        "print(today)\n",
        "print(tom)"
      ]
    },
    {
      "cell_type": "markdown",
      "metadata": {
        "id": "SEr5wX0qj8OV"
      },
      "source": [
        "#### 34. How to get all the dates corresponding to the month of July 2016? (★★☆) \n",
        "(**hint**: np.arange(dtype=datetime64\\['D'\\]))"
      ]
    },
    {
      "cell_type": "code",
      "execution_count": null,
      "metadata": {
        "id": "E9X6qpOpj8OV",
        "colab": {
          "base_uri": "https://localhost:8080/"
        },
        "outputId": "020795d3-2162-4ea3-bb3c-69b6d5fb8e15"
      },
      "outputs": [
        {
          "output_type": "stream",
          "name": "stdout",
          "text": [
            "['2016-07-01' '2016-07-02' '2016-07-03' '2016-07-04' '2016-07-05'\n",
            " '2016-07-06' '2016-07-07' '2016-07-08' '2016-07-09' '2016-07-10'\n",
            " '2016-07-11' '2016-07-12' '2016-07-13' '2016-07-14' '2016-07-15'\n",
            " '2016-07-16' '2016-07-17' '2016-07-18' '2016-07-19' '2016-07-20'\n",
            " '2016-07-21' '2016-07-22' '2016-07-23' '2016-07-24' '2016-07-25'\n",
            " '2016-07-26' '2016-07-27' '2016-07-28' '2016-07-29' '2016-07-30'\n",
            " '2016-07-31']\n"
          ]
        }
      ],
      "source": [
        "Z = np.arange('2016-07', '2016-08', dtype='datetime64[D]')\n",
        "print(Z)"
      ]
    },
    {
      "cell_type": "markdown",
      "metadata": {
        "id": "f27oC5n1j8OV"
      },
      "source": [
        "#### 35. How to compute ((A+B)\\*(-A/2)) in place (without copy)? (★★☆) \n",
        "(**hint**: np.add(out=), np.negative(out=), np.multiply(out=), np.divide(out=))"
      ]
    },
    {
      "cell_type": "code",
      "execution_count": null,
      "metadata": {
        "id": "tvy5J-lSj8OW",
        "colab": {
          "base_uri": "https://localhost:8080/"
        },
        "outputId": "1a09fcdc-6848-4cb4-8505-47d031420b50"
      },
      "outputs": [
        {
          "output_type": "stream",
          "name": "stdout",
          "text": [
            "[1. 1. 1.]\n",
            "[2. 2. 2.]\n"
          ]
        },
        {
          "output_type": "execute_result",
          "data": {
            "text/plain": [
              "array([-1.5, -1.5, -1.5])"
            ]
          },
          "metadata": {},
          "execution_count": 65
        }
      ],
      "source": [
        "A = np.ones(3)*1\n",
        "B = np.ones(3)*2\n",
        "print(A)\n",
        "print(B)\n",
        "c=np.add(A,B)\n",
        "np.divide(A,2)\n",
        "d=np.negative(np.divide(A,2))\n",
        "Z=np.multiply(c,d)\n",
        "Z"
      ]
    },
    {
      "cell_type": "markdown",
      "metadata": {
        "id": "phTf_Zavj8OW"
      },
      "source": [
        "#### 36. Extract the integer part of a random array using 5 different methods (★★☆) \n",
        "(**hint**: %, np.floor, np.ceil, astype, np.trunc)"
      ]
    },
    {
      "cell_type": "code",
      "execution_count": null,
      "metadata": {
        "id": "eFzZDhIyj8OW",
        "colab": {
          "base_uri": "https://localhost:8080/"
        },
        "outputId": "a487acb0-a203-4228-f990-6bfb8bda49b2"
      },
      "outputs": [
        {
          "output_type": "stream",
          "name": "stdout",
          "text": [
            "[4. 2. 9. 5. 5. 5. 0. 8. 6. 2.]\n",
            "[4. 2. 9. 5. 5. 5. 0. 8. 6. 2.]\n",
            "[4. 2. 9. 5. 5. 5. 0. 8. 6. 2.]\n",
            "[4 2 9 5 5 5 0 8 6 2]\n",
            "[4. 2. 9. 5. 5. 5. 0. 8. 6. 2.]\n"
          ]
        }
      ],
      "source": [
        "Z = np.random.uniform(0,10,10)\n",
        "\n",
        "print(Z - Z%1)\n",
        "print(Z // 1)\n",
        "print(np.floor(Z))\n",
        "print(Z.astype(int))\n",
        "print(np.trunc(Z))"
      ]
    },
    {
      "cell_type": "markdown",
      "metadata": {
        "id": "f4zCh6hoj8OX"
      },
      "source": [
        "#### 37. Create a 5x5 matrix with row values ranging from 0 to 4 (★★☆) \n",
        "(**hint**: np.arange)"
      ]
    },
    {
      "cell_type": "code",
      "execution_count": null,
      "metadata": {
        "id": "4NqVUazdj8OY",
        "colab": {
          "base_uri": "https://localhost:8080/"
        },
        "outputId": "76415a5a-e260-4fd9-e82b-a605dbcf3646"
      },
      "outputs": [
        {
          "output_type": "execute_result",
          "data": {
            "text/plain": [
              "array([[0., 1., 2., 3., 4.],\n",
              "       [0., 1., 2., 3., 4.],\n",
              "       [0., 1., 2., 3., 4.],\n",
              "       [0., 1., 2., 3., 4.],\n",
              "       [0., 1., 2., 3., 4.]])"
            ]
          },
          "metadata": {},
          "execution_count": 67
        }
      ],
      "source": [
        "a = np.zeros((5,5))\n",
        "a += np.arange(5)\n",
        "a"
      ]
    },
    {
      "cell_type": "markdown",
      "metadata": {
        "id": "O3ClwTOsj8OY"
      },
      "source": [
        "#### 38. Consider a generator function that generates 10 integers and use it to build an array (★☆☆) \n",
        "(**hint**: np.fromiter)"
      ]
    },
    {
      "cell_type": "code",
      "execution_count": null,
      "metadata": {
        "id": "ThjfoE3cj8OZ",
        "colab": {
          "base_uri": "https://localhost:8080/"
        },
        "outputId": "c05edbad-b026-4393-c776-4f53e7bbd68c"
      },
      "outputs": [
        {
          "output_type": "execute_result",
          "data": {
            "text/plain": [
              "array([0., 1., 2., 3., 4., 5., 6., 7., 8., 9.])"
            ]
          },
          "metadata": {},
          "execution_count": 68
        }
      ],
      "source": [
        "def generate(): \n",
        "    for x in range(10):\n",
        "        yield x\n",
        "        \n",
        "a = np.fromiter(generate(), dtype=float, count=-1)\n",
        "a"
      ]
    },
    {
      "cell_type": "markdown",
      "metadata": {
        "id": "Wn6jTbjLj8Oa"
      },
      "source": [
        "#### 39. Create a vector of size 10 with values ranging from 0 to 1, both excluded (★★☆) \n",
        "(**hint**: np.linspace)"
      ]
    },
    {
      "cell_type": "code",
      "execution_count": null,
      "metadata": {
        "id": "N2jGdh35j8Oa",
        "colab": {
          "base_uri": "https://localhost:8080/"
        },
        "outputId": "6705c508-1389-4b93-9097-7b1af9823379"
      },
      "outputs": [
        {
          "output_type": "execute_result",
          "data": {
            "text/plain": [
              "array([0.09090909, 0.18181818, 0.27272727, 0.36363636, 0.45454545,\n",
              "       0.54545455, 0.63636364, 0.72727273, 0.81818182, 0.90909091])"
            ]
          },
          "metadata": {},
          "execution_count": 69
        }
      ],
      "source": [
        "a = np.linspace(0,1,12,endpoint=True)[1:-1]\n",
        "a"
      ]
    },
    {
      "cell_type": "markdown",
      "metadata": {
        "id": "6tbr-kbhj8Ob"
      },
      "source": [
        "#### 40. Create a random vector of size 10 and sort it (★★☆) \n",
        "(**hint**: sort)"
      ]
    },
    {
      "cell_type": "code",
      "execution_count": null,
      "metadata": {
        "id": "Dp7a_II6j8Ob",
        "colab": {
          "base_uri": "https://localhost:8080/"
        },
        "outputId": "285fee01-ca52-4a08-931d-167d65711939"
      },
      "outputs": [
        {
          "output_type": "execute_result",
          "data": {
            "text/plain": [
              "array([0.06959966, 0.09952832, 0.12770443, 0.22325624, 0.33110189,\n",
              "       0.33239653, 0.54809532, 0.74301607, 0.75076173, 0.98960123])"
            ]
          },
          "metadata": {},
          "execution_count": 70
        }
      ],
      "source": [
        "a = np.random.random(10)\n",
        "a.sort()\n",
        "a"
      ]
    },
    {
      "cell_type": "markdown",
      "metadata": {
        "id": "tFQxY17kj8Ob"
      },
      "source": [
        "#### 41. How to sum a small array faster than np.sum? (★★☆) \n",
        "(**hint**: np.add.reduce)"
      ]
    },
    {
      "cell_type": "code",
      "execution_count": null,
      "metadata": {
        "id": "hB_nb9TWj8Oc",
        "colab": {
          "base_uri": "https://localhost:8080/"
        },
        "outputId": "c45fbcf7-f011-4f97-e7fc-d5adfba3a0b5"
      },
      "outputs": [
        {
          "output_type": "execute_result",
          "data": {
            "text/plain": [
              "45"
            ]
          },
          "metadata": {},
          "execution_count": 71
        }
      ],
      "source": [
        "Z = np.arange(10)\n",
        "np.add.reduce(Z)"
      ]
    },
    {
      "cell_type": "markdown",
      "metadata": {
        "id": "2sqh86b9j8Od"
      },
      "source": [
        "#### 42. Consider two random array A and B, check if they are equal (★★☆) \n",
        "(**hint**: np.allclose, np.array\\_equal)"
      ]
    },
    {
      "cell_type": "code",
      "execution_count": null,
      "metadata": {
        "id": "b-rIFJ-pj8Od",
        "colab": {
          "base_uri": "https://localhost:8080/"
        },
        "outputId": "caf7592c-fec7-46c3-fc11-26090e8a16ad"
      },
      "outputs": [
        {
          "output_type": "execute_result",
          "data": {
            "text/plain": [
              "False"
            ]
          },
          "metadata": {},
          "execution_count": 72
        }
      ],
      "source": [
        "A = np.random.randint(0,3)\n",
        "B = np.random.randint(0,5)\n",
        "equal = np.allclose(A,B)\n",
        "equal"
      ]
    },
    {
      "cell_type": "markdown",
      "metadata": {
        "id": "7gyUZiRfj8Oe"
      },
      "source": [
        "#### 43. Make an array immutable (read-only) (★★☆) \n",
        "(**hint**: flags.writeable)"
      ]
    },
    {
      "cell_type": "code",
      "execution_count": null,
      "metadata": {
        "id": "wM52t5X7j8Oe"
      },
      "outputs": [],
      "source": [
        "Z = np.zeros(10)\n",
        "Z.flags.writeable = False"
      ]
    },
    {
      "cell_type": "code",
      "source": [
        "print('Testing the array')\n",
        "Z[0] = 1"
      ],
      "metadata": {
        "colab": {
          "base_uri": "https://localhost:8080/",
          "height": 200
        },
        "id": "fef6tC2qk99b",
        "outputId": "1f1f48f8-0a19-4938-da90-39ef7ac1f94b"
      },
      "execution_count": null,
      "outputs": [
        {
          "output_type": "stream",
          "name": "stdout",
          "text": [
            "Testing the array\n"
          ]
        },
        {
          "output_type": "error",
          "ename": "ValueError",
          "evalue": "ignored",
          "traceback": [
            "\u001b[0;31m---------------------------------------------------------------------------\u001b[0m",
            "\u001b[0;31mValueError\u001b[0m                                Traceback (most recent call last)",
            "\u001b[0;32m<ipython-input-76-5e99c080afa6>\u001b[0m in \u001b[0;36m<module>\u001b[0;34m\u001b[0m\n\u001b[1;32m      1\u001b[0m \u001b[0mprint\u001b[0m\u001b[0;34m(\u001b[0m\u001b[0;34m'Testing the array'\u001b[0m\u001b[0;34m)\u001b[0m\u001b[0;34m\u001b[0m\u001b[0;34m\u001b[0m\u001b[0m\n\u001b[0;32m----> 2\u001b[0;31m \u001b[0mZ\u001b[0m\u001b[0;34m[\u001b[0m\u001b[0;36m0\u001b[0m\u001b[0;34m]\u001b[0m \u001b[0;34m=\u001b[0m \u001b[0;36m1\u001b[0m\u001b[0;34m\u001b[0m\u001b[0;34m\u001b[0m\u001b[0m\n\u001b[0m",
            "\u001b[0;31mValueError\u001b[0m: assignment destination is read-only"
          ]
        }
      ]
    },
    {
      "cell_type": "markdown",
      "metadata": {
        "id": "M4cUI3mRj8Oe"
      },
      "source": [
        "#### 44. Consider a random 10x2 matrix representing cartesian coordinates, convert them to polar coordinates (★★☆) \n",
        "(**hint**: np.sqrt, np.arctan2)"
      ]
    },
    {
      "cell_type": "code",
      "execution_count": null,
      "metadata": {
        "id": "x2cbhzMGj8Oe",
        "colab": {
          "base_uri": "https://localhost:8080/"
        },
        "outputId": "ddf141a2-e2d9-49e5-8da1-06eba993425a"
      },
      "outputs": [
        {
          "output_type": "stream",
          "name": "stdout",
          "text": [
            "[0.18179567 0.39342496 1.12363662 0.88692157 0.77436055 0.98747272]\n",
            "[0.74365189 1.26987854 0.76474651 0.03183788 0.14367416 0.21033654]\n"
          ]
        }
      ],
      "source": [
        "a = np.random.random((6,2))\n",
        "X,Y = a[:,0], a[:,1]\n",
        "R = np.sqrt(X**2+Y**2)\n",
        "T = np.arctan2(Y,X)\n",
        "print(R)\n",
        "print(T)"
      ]
    },
    {
      "cell_type": "markdown",
      "metadata": {
        "id": "dsaa5vWUj8Of"
      },
      "source": [
        "#### 45. Create random vector of size 10 and replace the maximum value by 0 (★★☆) \n",
        "(**hint**: argmax)"
      ]
    },
    {
      "cell_type": "code",
      "execution_count": null,
      "metadata": {
        "id": "-YZcS5dTj8Og",
        "colab": {
          "base_uri": "https://localhost:8080/"
        },
        "outputId": "eeef69e0-8833-405f-a514-fa8bfdad6c43"
      },
      "outputs": [
        {
          "output_type": "stream",
          "name": "stdout",
          "text": [
            "[0.63374274 0.28274132 0.8508941  0.70254507 0.12573343 0.73883593\n",
            " 0.34338227 0.03959403 0.2760708  0.46134459]\n",
            "[0.63374274 0.28274132 0.         0.70254507 0.12573343 0.73883593\n",
            " 0.34338227 0.03959403 0.2760708  0.46134459]\n"
          ]
        }
      ],
      "source": [
        "a = np.random.random(10)\n",
        "print(a)\n",
        "a[a.argmax()] = 0\n",
        "print(a)"
      ]
    },
    {
      "cell_type": "markdown",
      "metadata": {
        "id": "9Z0ZGN75j8Og"
      },
      "source": [
        "#### 46. Create a structured array with `x` and `y` coordinates covering the \\[0,1\\]x\\[0,1\\] area (★★☆) \n",
        "(**hint**: np.meshgrid)"
      ]
    },
    {
      "cell_type": "code",
      "execution_count": null,
      "metadata": {
        "id": "tjWU3tC1j8Og",
        "colab": {
          "base_uri": "https://localhost:8080/"
        },
        "outputId": "32d4d1c6-03c8-4ea4-aae2-8f5550e4192b"
      },
      "outputs": [
        {
          "output_type": "execute_result",
          "data": {
            "text/plain": [
              "array([[(0.        , 0.        ), (0.11111111, 0.        ),\n",
              "        (0.22222222, 0.        ), (0.33333333, 0.        ),\n",
              "        (0.44444444, 0.        ), (0.55555556, 0.        ),\n",
              "        (0.66666667, 0.        ), (0.77777778, 0.        ),\n",
              "        (0.88888889, 0.        ), (1.        , 0.        )],\n",
              "       [(0.        , 0.11111111), (0.11111111, 0.11111111),\n",
              "        (0.22222222, 0.11111111), (0.33333333, 0.11111111),\n",
              "        (0.44444444, 0.11111111), (0.55555556, 0.11111111),\n",
              "        (0.66666667, 0.11111111), (0.77777778, 0.11111111),\n",
              "        (0.88888889, 0.11111111), (1.        , 0.11111111)],\n",
              "       [(0.        , 0.22222222), (0.11111111, 0.22222222),\n",
              "        (0.22222222, 0.22222222), (0.33333333, 0.22222222),\n",
              "        (0.44444444, 0.22222222), (0.55555556, 0.22222222),\n",
              "        (0.66666667, 0.22222222), (0.77777778, 0.22222222),\n",
              "        (0.88888889, 0.22222222), (1.        , 0.22222222)],\n",
              "       [(0.        , 0.33333333), (0.11111111, 0.33333333),\n",
              "        (0.22222222, 0.33333333), (0.33333333, 0.33333333),\n",
              "        (0.44444444, 0.33333333), (0.55555556, 0.33333333),\n",
              "        (0.66666667, 0.33333333), (0.77777778, 0.33333333),\n",
              "        (0.88888889, 0.33333333), (1.        , 0.33333333)],\n",
              "       [(0.        , 0.44444444), (0.11111111, 0.44444444),\n",
              "        (0.22222222, 0.44444444), (0.33333333, 0.44444444),\n",
              "        (0.44444444, 0.44444444), (0.55555556, 0.44444444),\n",
              "        (0.66666667, 0.44444444), (0.77777778, 0.44444444),\n",
              "        (0.88888889, 0.44444444), (1.        , 0.44444444)],\n",
              "       [(0.        , 0.55555556), (0.11111111, 0.55555556),\n",
              "        (0.22222222, 0.55555556), (0.33333333, 0.55555556),\n",
              "        (0.44444444, 0.55555556), (0.55555556, 0.55555556),\n",
              "        (0.66666667, 0.55555556), (0.77777778, 0.55555556),\n",
              "        (0.88888889, 0.55555556), (1.        , 0.55555556)],\n",
              "       [(0.        , 0.66666667), (0.11111111, 0.66666667),\n",
              "        (0.22222222, 0.66666667), (0.33333333, 0.66666667),\n",
              "        (0.44444444, 0.66666667), (0.55555556, 0.66666667),\n",
              "        (0.66666667, 0.66666667), (0.77777778, 0.66666667),\n",
              "        (0.88888889, 0.66666667), (1.        , 0.66666667)],\n",
              "       [(0.        , 0.77777778), (0.11111111, 0.77777778),\n",
              "        (0.22222222, 0.77777778), (0.33333333, 0.77777778),\n",
              "        (0.44444444, 0.77777778), (0.55555556, 0.77777778),\n",
              "        (0.66666667, 0.77777778), (0.77777778, 0.77777778),\n",
              "        (0.88888889, 0.77777778), (1.        , 0.77777778)],\n",
              "       [(0.        , 0.88888889), (0.11111111, 0.88888889),\n",
              "        (0.22222222, 0.88888889), (0.33333333, 0.88888889),\n",
              "        (0.44444444, 0.88888889), (0.55555556, 0.88888889),\n",
              "        (0.66666667, 0.88888889), (0.77777778, 0.88888889),\n",
              "        (0.88888889, 0.88888889), (1.        , 0.88888889)],\n",
              "       [(0.        , 1.        ), (0.11111111, 1.        ),\n",
              "        (0.22222222, 1.        ), (0.33333333, 1.        ),\n",
              "        (0.44444444, 1.        ), (0.55555556, 1.        ),\n",
              "        (0.66666667, 1.        ), (0.77777778, 1.        ),\n",
              "        (0.88888889, 1.        ), (1.        , 1.        )]],\n",
              "      dtype=[('x', '<f8'), ('y', '<f8')])"
            ]
          },
          "metadata": {},
          "execution_count": 82
        }
      ],
      "source": [
        "a = np.zeros((10,10), [('x',float),('y',float)])\n",
        "a['x'], a['y'] = np.meshgrid(np.linspace(0,1,10),np.linspace(0,1,10))\n",
        "a"
      ]
    },
    {
      "cell_type": "markdown",
      "metadata": {
        "id": "jU5P5Ulrj8Oh"
      },
      "source": [
        "####  47. Given two arrays, X and Y, construct the Cauchy matrix C (Cij =1/(xi - yj)) \n",
        "(**hint**: np.subtract.outer)"
      ]
    },
    {
      "cell_type": "code",
      "execution_count": null,
      "metadata": {
        "id": "fzRK7JTMj8Oh",
        "colab": {
          "base_uri": "https://localhost:8080/"
        },
        "outputId": "b5cf5cd5-477e-4d7c-b0dc-f75ddfd4681e"
      },
      "outputs": [
        {
          "output_type": "stream",
          "name": "stdout",
          "text": [
            "3638.163637117973\n"
          ]
        }
      ],
      "source": [
        "X = np.arange(8)\n",
        "Y = X + 0.5\n",
        "C = 1.0 / np.subtract.outer(X, Y)\n",
        "print(np.linalg.det(C))"
      ]
    },
    {
      "cell_type": "markdown",
      "metadata": {
        "id": "YOfJ4lCbj8Oh"
      },
      "source": [
        "#### 48. Print the minimum and maximum representable value for each numpy scalar type (★★☆) \n",
        "(**hint**: np.iinfo, np.finfo, eps)"
      ]
    },
    {
      "cell_type": "code",
      "execution_count": null,
      "metadata": {
        "id": "lisTryTuj8Oi",
        "colab": {
          "base_uri": "https://localhost:8080/"
        },
        "outputId": "6e297bef-8420-4ba2-d6c7-b496fdab6b66"
      },
      "outputs": [
        {
          "output_type": "stream",
          "name": "stdout",
          "text": [
            "-128\n",
            "127\n",
            "-2147483648\n",
            "2147483647\n",
            "-9223372036854775808\n",
            "9223372036854775807\n",
            "-3.4028235e+38\n",
            "3.4028235e+38\n",
            "1.1920929e-07\n",
            "-1.7976931348623157e+308\n",
            "1.7976931348623157e+308\n",
            "2.220446049250313e-16\n"
          ]
        }
      ],
      "source": [
        "for dtype in [np.int8, np.int32, np.int64]:\n",
        "   print(np.iinfo(dtype).min)\n",
        "   print(np.iinfo(dtype).max)\n",
        "for dtype in [np.float32, np.float64]:\n",
        "   print(np.finfo(dtype).min)\n",
        "   print(np.finfo(dtype).max)\n",
        "   print(np.finfo(dtype).eps)"
      ]
    },
    {
      "cell_type": "markdown",
      "metadata": {
        "id": "Jd-E-x2qj8Oi"
      },
      "source": [
        "#### 49. How to print all the values of an array? (★★☆) \n",
        "(**hint**: np.set\\_printoptions)"
      ]
    },
    {
      "cell_type": "code",
      "execution_count": null,
      "metadata": {
        "id": "bWA8Fw--j8Oi",
        "colab": {
          "base_uri": "https://localhost:8080/"
        },
        "outputId": "3e2076d8-a336-47c6-ddce-229c4611638d"
      },
      "outputs": [
        {
          "output_type": "stream",
          "name": "stdout",
          "text": [
            "[[0. 0. 0. 0.]\n",
            " [0. 0. 0. 0.]\n",
            " [0. 0. 0. 0.]\n",
            " [0. 0. 0. 0.]]\n"
          ]
        }
      ],
      "source": [
        "np.set_printoptions(threshold=float(\"inf\"))\n",
        "Z = np.zeros((4,4))\n",
        "print(Z)"
      ]
    },
    {
      "cell_type": "markdown",
      "metadata": {
        "id": "8O7FHnNTj8Oi"
      },
      "source": [
        "#### 50. How to find the closest value (to a given scalar) in a vector? (★★☆) \n",
        "(**hint**: argmin)"
      ]
    },
    {
      "cell_type": "code",
      "execution_count": null,
      "metadata": {
        "id": "HHe-NaEfj8Oj",
        "colab": {
          "base_uri": "https://localhost:8080/"
        },
        "outputId": "60faa865-2fa9-4bae-e3c7-2c76f61991be"
      },
      "outputs": [
        {
          "output_type": "execute_result",
          "data": {
            "text/plain": [
              "17"
            ]
          },
          "metadata": {},
          "execution_count": 87
        }
      ],
      "source": [
        "a = np.arange(25)\n",
        "u = np.random.uniform(0,25)\n",
        "index = (np.abs(a-u)).argmin()\n",
        "a[index]"
      ]
    },
    {
      "cell_type": "markdown",
      "metadata": {
        "id": "1AT9nZc8j8Oj"
      },
      "source": [
        "#### 51. Create a structured array representing a position (x,y) and a color (r,g,b) (★★☆) \n",
        "(**hint**: dtype)"
      ]
    },
    {
      "cell_type": "code",
      "execution_count": null,
      "metadata": {
        "id": "hGDheexSj8Oj",
        "colab": {
          "base_uri": "https://localhost:8080/"
        },
        "outputId": "cc26cb2a-dd3b-4c7c-dc36-6addde86b291"
      },
      "outputs": [
        {
          "output_type": "stream",
          "name": "stdout",
          "text": [
            "[((0., 0.), (0., 0., 0.)) ((0., 0.), (0., 0., 0.))\n",
            " ((0., 0.), (0., 0., 0.)) ((0., 0.), (0., 0., 0.))\n",
            " ((0., 0.), (0., 0., 0.)) ((0., 0.), (0., 0., 0.))\n",
            " ((0., 0.), (0., 0., 0.)) ((0., 0.), (0., 0., 0.))\n",
            " ((0., 0.), (0., 0., 0.)) ((0., 0.), (0., 0., 0.))]\n"
          ]
        },
        {
          "output_type": "stream",
          "name": "stderr",
          "text": [
            "/usr/local/lib/python3.7/dist-packages/ipykernel_launcher.py:5: FutureWarning: Passing (type, 1) or '1type' as a synonym of type is deprecated; in a future version of numpy, it will be understood as (type, (1,)) / '(1,)type'.\n",
            "  \"\"\"\n"
          ]
        }
      ],
      "source": [
        "a = np.zeros(10, [ ('position', [ ('x', float, 1),\n",
        "                                   ('y', float, 1)]),\n",
        "                    ('color',    [ ('r', float, 1),\n",
        "                                   ('g', float, 1),\n",
        "                                   ('b', float, 1)])])\n",
        "print(a)"
      ]
    },
    {
      "cell_type": "markdown",
      "metadata": {
        "id": "FfMK30l-j8Ok"
      },
      "source": [
        "#### 52. Consider a random vector with shape (100,2) representing coordinates, find point by point distances (★★☆) \n",
        "(**hint**: np.atleast\\_2d, T, np.sqrt)"
      ]
    },
    {
      "cell_type": "code",
      "execution_count": null,
      "metadata": {
        "id": "LAUtTZW6j8Ok",
        "colab": {
          "base_uri": "https://localhost:8080/"
        },
        "outputId": "0d447b94-9bb5-433e-b710-97fdaf25464d"
      },
      "outputs": [
        {
          "output_type": "stream",
          "name": "stdout",
          "text": [
            "[[0.         0.82157469 0.963738   0.9049274  0.63962271 0.57759318\n",
            "  0.87609255 0.68152076 0.55068802 0.86379958]\n",
            " [0.82157469 0.         0.77880378 0.7023053  0.18366714 0.86074157\n",
            "  0.55697193 0.28238578 0.69168588 0.63208522]\n",
            " [0.963738   0.77880378 0.         0.07930633 0.72726129 0.48470991\n",
            "  0.22332249 0.52968772 0.41892764 0.14970749]\n",
            " [0.9049274  0.7023053  0.07930633 0.         0.64796993 0.46068863\n",
            "  0.15132055 0.4504788  0.37030987 0.07084969]\n",
            " [0.63962271 0.18366714 0.72726129 0.64796993 0.         0.71410101\n",
            "  0.52128807 0.19830233 0.55063859 0.57783596]\n",
            " [0.57759318 0.86074157 0.48470991 0.46068863 0.71410101 0.\n",
            "  0.52633827 0.58630855 0.17026765 0.46105524]\n",
            " [0.87609255 0.55697193 0.22332249 0.15132055 0.52128807 0.52633827\n",
            "  0.         0.32370561 0.39355051 0.08933947]\n",
            " [0.68152076 0.28238578 0.52968772 0.4504788  0.19830233 0.58630855\n",
            "  0.32370561 0.         0.41606198 0.38005833]\n",
            " [0.55068802 0.69168588 0.41892764 0.37030987 0.55063859 0.17026765\n",
            "  0.39355051 0.41606198 0.         0.34729175]\n",
            " [0.86379958 0.63208522 0.14970749 0.07084969 0.57783596 0.46105524\n",
            "  0.08933947 0.38005833 0.34729175 0.        ]]\n"
          ]
        }
      ],
      "source": [
        "a = np.random.random((10,2))\n",
        "X,Y = np.atleast_2d(a[:,0]), np.atleast_2d(a[:,1])\n",
        "D = np.sqrt( (X-X.T)**2 + (Y-Y.T)**2)\n",
        "print(D)"
      ]
    },
    {
      "cell_type": "markdown",
      "metadata": {
        "id": "ihH9pXDFj8Ol"
      },
      "source": [
        "#### 53. How to convert a float (32 bits) array into an integer (32 bits) in place? \n",
        "(**hint**: astype(copy=False))"
      ]
    },
    {
      "cell_type": "code",
      "execution_count": null,
      "metadata": {
        "id": "BBTklrIWj8Ol",
        "colab": {
          "base_uri": "https://localhost:8080/"
        },
        "outputId": "852d8e82-f49d-424e-9d46-94d121a3bf1e"
      },
      "outputs": [
        {
          "output_type": "stream",
          "name": "stdout",
          "text": [
            "[0. 1. 2. 3. 4. 5. 6. 7. 8. 9.]\n"
          ]
        },
        {
          "output_type": "execute_result",
          "data": {
            "text/plain": [
              "array([0, 1, 2, 3, 4, 5, 6, 7, 8, 9], dtype=int32)"
            ]
          },
          "metadata": {},
          "execution_count": 90
        }
      ],
      "source": [
        "a = np.arange(10, dtype=np.float32)\n",
        "print(a)\n",
        "a = a.astype(np.int32, copy=False)\n",
        "a"
      ]
    },
    {
      "cell_type": "markdown",
      "metadata": {
        "id": "MVYAVijAj8Ol"
      },
      "source": [
        "#### 54. How to read the following file? (★★☆) \n",
        "(**hint**: np.genfromtxt)"
      ]
    },
    {
      "cell_type": "markdown",
      "metadata": {
        "id": "DwfSAA14j8Om"
      },
      "source": [
        "```\n",
        "1, 2, 3, 4, 5\n",
        "6,  ,  , 7, 8\n",
        " ,  , 9,10,11\n",
        "```"
      ]
    },
    {
      "cell_type": "code",
      "execution_count": null,
      "metadata": {
        "id": "i1G31JB9j8Om",
        "colab": {
          "base_uri": "https://localhost:8080/"
        },
        "outputId": "e3187b37-bfc2-43c9-971d-eb8890e7d2e7"
      },
      "outputs": [
        {
          "output_type": "stream",
          "name": "stdout",
          "text": [
            "[[ 1  2  3  4  5]\n",
            " [ 6 -1 -1  7  8]\n",
            " [-1 -1  9 10 11]]\n"
          ]
        },
        {
          "output_type": "stream",
          "name": "stderr",
          "text": [
            "/usr/local/lib/python3.7/dist-packages/ipykernel_launcher.py:6: DeprecationWarning: `np.int` is a deprecated alias for the builtin `int`. To silence this warning, use `int` by itself. Doing this will not modify any behavior and is safe. When replacing `np.int`, you may wish to use e.g. `np.int64` or `np.int32` to specify the precision. If you wish to review your current use, check the release note link for additional information.\n",
            "Deprecated in NumPy 1.20; for more details and guidance: https://numpy.org/devdocs/release/1.20.0-notes.html#deprecations\n",
            "  \n"
          ]
        }
      ],
      "source": [
        "from io import StringIO\n",
        "s = StringIO('''1, 2, 3, 4, 5\n",
        "                6,  ,  , 7, 8\n",
        "                 ,  , 9,10,11\n",
        "''')\n",
        "Z = np.genfromtxt(s, delimiter=\",\", dtype=np.int)\n",
        "print(Z)"
      ]
    },
    {
      "cell_type": "markdown",
      "metadata": {
        "id": "J9lN-TUBj8Om"
      },
      "source": [
        "#### 55. What is the equivalent of enumerate for numpy arrays? (★★☆) \n",
        "(**hint**: np.ndenumerate, np.ndindex)"
      ]
    },
    {
      "cell_type": "code",
      "execution_count": null,
      "metadata": {
        "id": "KmvQYrN5j8On",
        "colab": {
          "base_uri": "https://localhost:8080/"
        },
        "outputId": "4cfbcdf6-059c-4b1b-e4dd-c1377a9c165c"
      },
      "outputs": [
        {
          "output_type": "stream",
          "name": "stdout",
          "text": [
            "(0, 0) 0\n",
            "(0, 1) 1\n",
            "(0, 2) 2\n",
            "(1, 0) 3\n",
            "(1, 1) 4\n",
            "(1, 2) 5\n",
            "(2, 0) 6\n",
            "(2, 1) 7\n",
            "(2, 2) 8\n",
            "(0, 0) 0\n",
            "(0, 1) 1\n",
            "(0, 2) 2\n",
            "(1, 0) 3\n",
            "(1, 1) 4\n",
            "(1, 2) 5\n",
            "(2, 0) 6\n",
            "(2, 1) 7\n",
            "(2, 2) 8\n"
          ]
        }
      ],
      "source": [
        "a = np.arange(9).reshape(3,3)\n",
        "for index, value in np.ndenumerate(a):\n",
        "    print(index, value)\n",
        "for index in np.ndindex(a.shape):\n",
        "    print(index, a[index])"
      ]
    },
    {
      "cell_type": "markdown",
      "metadata": {
        "id": "PPyCW4s9j8Oo"
      },
      "source": [
        "#### 56. Generate a generic 2D Gaussian-like array (★★☆) \n",
        "(**hint**: np.meshgrid, np.exp)"
      ]
    },
    {
      "cell_type": "code",
      "execution_count": null,
      "metadata": {
        "id": "A-vQEWsAj8Oo",
        "colab": {
          "base_uri": "https://localhost:8080/"
        },
        "outputId": "5573199d-8494-4968-df92-21bd233c9be4"
      },
      "outputs": [
        {
          "output_type": "stream",
          "name": "stdout",
          "text": [
            "[[0.36787944 0.44822088 0.51979489 0.57375342 0.60279818 0.60279818\n",
            "  0.57375342 0.51979489 0.44822088 0.36787944]\n",
            " [0.44822088 0.54610814 0.63331324 0.69905581 0.73444367 0.73444367\n",
            "  0.69905581 0.63331324 0.54610814 0.44822088]\n",
            " [0.51979489 0.63331324 0.73444367 0.81068432 0.85172308 0.85172308\n",
            "  0.81068432 0.73444367 0.63331324 0.51979489]\n",
            " [0.57375342 0.69905581 0.81068432 0.89483932 0.9401382  0.9401382\n",
            "  0.89483932 0.81068432 0.69905581 0.57375342]\n",
            " [0.60279818 0.73444367 0.85172308 0.9401382  0.98773022 0.98773022\n",
            "  0.9401382  0.85172308 0.73444367 0.60279818]\n",
            " [0.60279818 0.73444367 0.85172308 0.9401382  0.98773022 0.98773022\n",
            "  0.9401382  0.85172308 0.73444367 0.60279818]\n",
            " [0.57375342 0.69905581 0.81068432 0.89483932 0.9401382  0.9401382\n",
            "  0.89483932 0.81068432 0.69905581 0.57375342]\n",
            " [0.51979489 0.63331324 0.73444367 0.81068432 0.85172308 0.85172308\n",
            "  0.81068432 0.73444367 0.63331324 0.51979489]\n",
            " [0.44822088 0.54610814 0.63331324 0.69905581 0.73444367 0.73444367\n",
            "  0.69905581 0.63331324 0.54610814 0.44822088]\n",
            " [0.36787944 0.44822088 0.51979489 0.57375342 0.60279818 0.60279818\n",
            "  0.57375342 0.51979489 0.44822088 0.36787944]]\n"
          ]
        }
      ],
      "source": [
        "X, Y = np.meshgrid(np.linspace(-1,1,10), np.linspace(-1,1,10))\n",
        "D = np.sqrt(X*X+Y*Y)\n",
        "sigma, mu = 1.0, 0.0\n",
        "G = np.exp(-( (D-mu)**2 / ( 2.0 * sigma**2 ) ) )\n",
        "print(G)"
      ]
    },
    {
      "cell_type": "markdown",
      "metadata": {
        "id": "6A2HD4AVj8Op"
      },
      "source": [
        "#### 57. How to randomly place p elements in a 2D array? (★★☆) \n",
        "(**hint**: np.put, np.random.choice)"
      ]
    },
    {
      "cell_type": "code",
      "execution_count": null,
      "metadata": {
        "id": "_-0vMD8Jj8Op",
        "colab": {
          "base_uri": "https://localhost:8080/"
        },
        "outputId": "fcbad4f3-2f70-4c46-d27a-522e8d1497ac"
      },
      "outputs": [
        {
          "output_type": "execute_result",
          "data": {
            "text/plain": [
              "array([[0., 0., 0., 0., 0., 0., 0., 0., 0., 0.],\n",
              "       [0., 0., 0., 0., 0., 0., 0., 0., 0., 0.],\n",
              "       [0., 0., 0., 0., 0., 0., 0., 0., 0., 0.],\n",
              "       [0., 0., 0., 0., 0., 1., 0., 0., 0., 0.],\n",
              "       [0., 0., 0., 0., 0., 0., 0., 0., 0., 0.],\n",
              "       [0., 0., 0., 0., 1., 0., 0., 0., 0., 0.],\n",
              "       [0., 0., 0., 0., 0., 0., 0., 0., 0., 0.],\n",
              "       [0., 0., 0., 0., 0., 0., 0., 0., 0., 0.],\n",
              "       [0., 0., 0., 0., 0., 0., 0., 0., 0., 0.],\n",
              "       [1., 0., 0., 0., 0., 0., 0., 0., 0., 0.]])"
            ]
          },
          "metadata": {},
          "execution_count": 94
        }
      ],
      "source": [
        "n = 10\n",
        "p = 3\n",
        "a = np.zeros((n,n))\n",
        "np.put(a, np.random.choice(range(n*n), p, replace=False),1)\n",
        "a"
      ]
    },
    {
      "cell_type": "markdown",
      "metadata": {
        "id": "HH-dzKptj8Oq"
      },
      "source": [
        "#### 58. Subtract the mean of each row of a matrix (★★☆) \n",
        "(**hint**: mean(axis=,keepdims=))"
      ]
    },
    {
      "cell_type": "code",
      "execution_count": null,
      "metadata": {
        "id": "jTcty7wFj8Oq",
        "colab": {
          "base_uri": "https://localhost:8080/"
        },
        "outputId": "d6bcaebd-e07e-4c95-f59c-9c3e13c71693"
      },
      "outputs": [
        {
          "output_type": "execute_result",
          "data": {
            "text/plain": [
              "array([[-0.08225194,  0.11310951, -0.15445858, -0.35317476, -0.30930128,\n",
              "         0.05637169,  0.48154064,  0.42084228,  0.09958242, -0.27225998],\n",
              "       [-0.21396257, -0.35691232, -0.36482402, -0.00060866,  0.3445051 ,\n",
              "         0.37190014, -0.44040544,  0.0454026 ,  0.2083329 ,  0.40657227],\n",
              "       [ 0.00317517, -0.26704757, -0.13498062, -0.09910035, -0.36429557,\n",
              "        -0.12828185, -0.11775678,  0.37381038,  0.47172174,  0.26275546],\n",
              "       [-0.41418774,  0.14020511,  0.43695879, -0.02342996, -0.4636138 ,\n",
              "         0.10199969, -0.08241297,  0.14715218, -0.16639701,  0.3237257 ],\n",
              "       [ 0.56709794,  0.41789829,  0.2515205 , -0.28817111, -0.37307548,\n",
              "         0.05812446, -0.01672456, -0.06313482, -0.23465714, -0.31887808]])"
            ]
          },
          "metadata": {},
          "execution_count": 95
        }
      ],
      "source": [
        "X = np.random.rand(5, 10)\n",
        "\n",
        "# Recent versions of numpy\n",
        "Y = X - X.mean(axis=1, keepdims=True)\n",
        "\n",
        "# Older versions of numpy\n",
        "Y = X - X.mean(axis=1).reshape(-1, 1)\n",
        "Y"
      ]
    },
    {
      "cell_type": "markdown",
      "metadata": {
        "id": "SLbYGAUqj8Or"
      },
      "source": [
        "#### 59. How to sort an array by the nth column? (★★☆) \n",
        "(**hint**: argsort)"
      ]
    },
    {
      "cell_type": "code",
      "execution_count": null,
      "metadata": {
        "id": "m12f3ytdj8Or",
        "colab": {
          "base_uri": "https://localhost:8080/"
        },
        "outputId": "4160decc-e393-4cca-ba8f-f7e135ea448c"
      },
      "outputs": [
        {
          "output_type": "stream",
          "name": "stdout",
          "text": [
            "[[1 3 1]\n",
            " [8 7 7]\n",
            " [1 4 6]]\n",
            "[[1 3 1]\n",
            " [1 4 6]\n",
            " [8 7 7]]\n"
          ]
        }
      ],
      "source": [
        "a = np.random.randint(0,10,(3,3))\n",
        "print(a)\n",
        "print(a[a[:,1].argsort()])"
      ]
    },
    {
      "cell_type": "markdown",
      "metadata": {
        "id": "Y0y_4Im4j8Or"
      },
      "source": [
        "#### 60. How to tell if a given 2D array has null columns? (★★☆) \n",
        "(**hint**: any, ~)"
      ]
    },
    {
      "cell_type": "code",
      "execution_count": null,
      "metadata": {
        "id": "2Teu32FYj8Os",
        "colab": {
          "base_uri": "https://localhost:8080/"
        },
        "outputId": "6073db70-0f3a-4729-fc28-c75db8bdca97"
      },
      "outputs": [
        {
          "output_type": "stream",
          "name": "stdout",
          "text": [
            "False\n"
          ]
        }
      ],
      "source": [
        "a = np.random.randint(0,3,(3,10))\n",
        "print((~a.any(axis=0)).any())"
      ]
    },
    {
      "cell_type": "markdown",
      "metadata": {
        "id": "mRf2ID19j8Os"
      },
      "source": [
        "#### 61. Find the nearest value from a given value in an array (★★☆) \n",
        "(**hint**: np.abs, argmin, flat)"
      ]
    },
    {
      "cell_type": "code",
      "execution_count": null,
      "metadata": {
        "id": "LBo0AJRKj8Os",
        "colab": {
          "base_uri": "https://localhost:8080/"
        },
        "outputId": "70351f76-f11a-43a5-ebf3-e8222f2f7627"
      },
      "outputs": [
        {
          "output_type": "stream",
          "name": "stdout",
          "text": [
            "0.5477862356864951\n"
          ]
        }
      ],
      "source": [
        "A = np.random.uniform(0,1,10)\n",
        "a = 0.5\n",
        "m = A.flat[np.abs(A - a).argmin()]\n",
        "print(m)"
      ]
    },
    {
      "cell_type": "markdown",
      "metadata": {
        "id": "nvsGU2Xhj8Ot"
      },
      "source": [
        "#### 62. Considering two arrays with shape (1,3) and (3,1), how to compute their sum using an iterator? (★★☆) \n",
        "(**hint**: np.nditer)"
      ]
    },
    {
      "cell_type": "code",
      "execution_count": null,
      "metadata": {
        "id": "BExYjlO2j8Ot",
        "colab": {
          "base_uri": "https://localhost:8080/"
        },
        "outputId": "8d2512dd-6d40-47d7-c0b7-19615f7f568a"
      },
      "outputs": [
        {
          "output_type": "stream",
          "name": "stdout",
          "text": [
            "[[0 1 2]\n",
            " [1 2 3]\n",
            " [2 3 4]]\n"
          ]
        }
      ],
      "source": [
        "A = np.arange(3).reshape(3,1)\n",
        "B = np.arange(3).reshape(1,3)\n",
        "it = np.nditer([A,B,None])\n",
        "for x,y,z in it: z[...] = x + y\n",
        "print(it.operands[2])"
      ]
    },
    {
      "cell_type": "markdown",
      "metadata": {
        "id": "CzJBc51Lj8Ou"
      },
      "source": [
        "#### 63. Create an array class that has a name attribute (★★☆) \n",
        "(**hint**: class method)"
      ]
    },
    {
      "cell_type": "code",
      "execution_count": null,
      "metadata": {
        "id": "O03unQSNj8Ov",
        "colab": {
          "base_uri": "https://localhost:8080/"
        },
        "outputId": "38c67e9f-3f21-4c0a-f555-dbd048118ffc"
      },
      "outputs": [
        {
          "output_type": "stream",
          "name": "stdout",
          "text": [
            "range_10\n"
          ]
        }
      ],
      "source": [
        "class NamedArray(np.ndarray):\n",
        "    def __new__(cls, array, name=\"no name\"):\n",
        "        obj = np.asarray(array).view(cls)\n",
        "        obj.name = name\n",
        "        return obj\n",
        "    def __array_finalize__(self, obj):\n",
        "        if obj is None: return\n",
        "        self.info = getattr(obj, 'name', \"no name\")\n",
        "\n",
        "Z = NamedArray(np.arange(10), \"range_10\")\n",
        "print (Z.name)"
      ]
    },
    {
      "cell_type": "markdown",
      "metadata": {
        "id": "3yETk7Vbj8Ov"
      },
      "source": [
        "#### 64. Consider a given vector, how to add 1 to each element indexed by a second vector (be careful with repeated indices)? (★★★) \n",
        "(**hint**: np.bincount | np.add.at)"
      ]
    },
    {
      "cell_type": "code",
      "execution_count": null,
      "metadata": {
        "id": "DEDIU4duj8Ow",
        "colab": {
          "base_uri": "https://localhost:8080/"
        },
        "outputId": "d407b7a2-b37a-45ae-8b4d-d2ba3f8f54c9"
      },
      "outputs": [
        {
          "output_type": "execute_result",
          "data": {
            "text/plain": [
              "array([2., 2., 4., 2., 3., 3., 2., 3., 6., 3.])"
            ]
          },
          "metadata": {},
          "execution_count": 101
        }
      ],
      "source": [
        "a = np.ones(10)\n",
        "I = np.random.randint(0,len(a),20)\n",
        "a += np.bincount(I, minlength=len(a))\n",
        "a"
      ]
    },
    {
      "cell_type": "markdown",
      "metadata": {
        "id": "eNmUTQH9j8Ox"
      },
      "source": [
        "#### 65. How to accumulate elements of a vector (X) to an array (F) based on an index list (I)? (★★★) \n",
        "(**hint**: np.bincount)"
      ]
    },
    {
      "cell_type": "code",
      "execution_count": null,
      "metadata": {
        "id": "Y0sSQGoBj8Ox",
        "colab": {
          "base_uri": "https://localhost:8080/"
        },
        "outputId": "eb0bf5e3-c2b1-4296-969a-ea5b2883b685"
      },
      "outputs": [
        {
          "output_type": "execute_result",
          "data": {
            "text/plain": [
              "array([0., 7., 0., 6., 5., 0., 0., 0., 0., 3.])"
            ]
          },
          "metadata": {},
          "execution_count": 102
        }
      ],
      "source": [
        "X = [1,2,3,4,5,6]\n",
        "I = [1,3,9,3,4,1]\n",
        "F = np.bincount(I,X)\n",
        "F"
      ]
    },
    {
      "cell_type": "markdown",
      "metadata": {
        "id": "CXKuRUdGj8Oy"
      },
      "source": [
        "#### 66. Considering a (w,h,3) image of (dtype=ubyte), compute the number of unique colors (★★★) \n",
        "(**hint**: np.unique)"
      ]
    },
    {
      "cell_type": "code",
      "execution_count": null,
      "metadata": {
        "id": "TPaFxTqNj8Oz",
        "colab": {
          "base_uri": "https://localhost:8080/"
        },
        "outputId": "94fcf14a-452e-4426-d685-86e729700c77"
      },
      "outputs": [
        {
          "output_type": "stream",
          "name": "stdout",
          "text": [
            "[0 1]\n"
          ]
        }
      ],
      "source": [
        "w,h = 16,16\n",
        "I = np.random.randint(0,2,(h,w,3)).astype(np.ubyte)\n",
        "F = I[...,0]*256*256 + I[...,1]*256 +I[...,2]\n",
        "n = len(np.unique(F))\n",
        "print(np.unique(I))"
      ]
    },
    {
      "cell_type": "markdown",
      "metadata": {
        "id": "qqlilK2ij8Oz"
      },
      "source": [
        "#### 67. Considering a four dimensions array, how to get sum over the last two axis at once? (★★★) \n",
        "(**hint**: sum(axis=(-2,-1)))"
      ]
    },
    {
      "cell_type": "code",
      "execution_count": null,
      "metadata": {
        "id": "htiNYjwQj8O0",
        "colab": {
          "base_uri": "https://localhost:8080/"
        },
        "outputId": "84f5c109-f86d-4ab7-e2ec-07a2c6ffdba3"
      },
      "outputs": [
        {
          "output_type": "execute_result",
          "data": {
            "text/plain": [
              "array([[44, 56, 54, 54],\n",
              "       [69, 70, 56, 65],\n",
              "       [51, 50, 54, 38]])"
            ]
          },
          "metadata": {},
          "execution_count": 104
        }
      ],
      "source": [
        "A = np.random.randint(0,10,(3,4,3,4))\n",
        "sum = A.reshape(A.shape[:-2] + (-1,)).sum(axis=-1)\n",
        "sum"
      ]
    },
    {
      "cell_type": "markdown",
      "metadata": {
        "id": "YX6JWvb7j8O2"
      },
      "source": [
        "#### 68. Considering a one-dimensional vector D, how to compute means of subsets of D using a vector S of same size describing subset  indices? (★★★) \n",
        "(**hint**: np.bincount)"
      ]
    },
    {
      "cell_type": "code",
      "execution_count": null,
      "metadata": {
        "id": "8wbwksnMj8O2",
        "colab": {
          "base_uri": "https://localhost:8080/"
        },
        "outputId": "d49b807a-e4aa-400b-9fc6-f8c54850f103"
      },
      "outputs": [
        {
          "output_type": "execute_result",
          "data": {
            "text/plain": [
              "array([0.54751574, 0.65781657, 0.38424995, 0.55832994, 0.51810037,\n",
              "       0.47882395, 0.52798554, 0.55995173, 0.40059669, 0.49845314])"
            ]
          },
          "metadata": {},
          "execution_count": 105
        }
      ],
      "source": [
        "D = np.random.uniform(0,1,100)\n",
        "S = np.random.randint(0,10,100)\n",
        "D_sums = np.bincount(S, weights=D)\n",
        "D_counts = np.bincount(S)\n",
        "D_means = D_sums / D_counts\n",
        "D_means"
      ]
    },
    {
      "cell_type": "markdown",
      "metadata": {
        "id": "19W4ULm7j8O2"
      },
      "source": [
        "#### 69. How to get the diagonal of a dot product? (★★★) \n",
        "(**hint**: np.diag)"
      ]
    },
    {
      "cell_type": "code",
      "execution_count": null,
      "metadata": {
        "id": "zd5i20Yej8O3",
        "colab": {
          "base_uri": "https://localhost:8080/"
        },
        "outputId": "e54766eb-8272-46eb-b1c6-e6eace3a16b7"
      },
      "outputs": [
        {
          "output_type": "execute_result",
          "data": {
            "text/plain": [
              "array([66, 62, 52])"
            ]
          },
          "metadata": {},
          "execution_count": 106
        }
      ],
      "source": [
        "A = np.random.randint(0,10,(3,3))\n",
        "B= np.random.randint(0,10,(3,3))\n",
        "np.diag(np.dot(A, B))"
      ]
    },
    {
      "cell_type": "markdown",
      "metadata": {
        "id": "9COOZnf8j8O3"
      },
      "source": [
        "#### 70. Consider the vector \\[1, 2, 3, 4, 5\\], how to build a new vector with 3 consecutive zeros interleaved between each value? (★★★) \n",
        "(**hint**: array\\[::4\\])"
      ]
    },
    {
      "cell_type": "code",
      "execution_count": null,
      "metadata": {
        "id": "MUeSAf2Gj8O3",
        "colab": {
          "base_uri": "https://localhost:8080/"
        },
        "outputId": "6ca779dd-5a7a-408b-a749-e85495ce91ee"
      },
      "outputs": [
        {
          "output_type": "stream",
          "name": "stdout",
          "text": [
            "[1. 0. 0. 0. 2. 0. 0. 0. 3. 0. 0. 0. 4. 0. 0. 0. 5.]\n"
          ]
        }
      ],
      "source": [
        "Z = np.array([1,2,3,4,5])\n",
        "nz = 3\n",
        "Z0 = np.zeros(len(Z) + (len(Z)-1)*(nz))\n",
        "Z0[::nz+1] = Z\n",
        "print(Z0)"
      ]
    },
    {
      "cell_type": "markdown",
      "metadata": {
        "id": "qfs7HfuPj8O4"
      },
      "source": [
        "#### 71. Consider an array of dimension (5,5,3), how to mulitply it by an array with dimensions (5,5)? (★★★) \n",
        "(**hint**: array\\[:, :, None\\])"
      ]
    },
    {
      "cell_type": "code",
      "execution_count": null,
      "metadata": {
        "collapsed": true,
        "id": "ZRB6I8Jmj8O5",
        "colab": {
          "base_uri": "https://localhost:8080/"
        },
        "outputId": "164a9e07-56b3-401f-e0b8-7e9d3c2bc537"
      },
      "outputs": [
        {
          "output_type": "stream",
          "name": "stdout",
          "text": [
            "[[[2. 2. 2.]\n",
            "  [2. 2. 2.]\n",
            "  [2. 2. 2.]\n",
            "  [2. 2. 2.]\n",
            "  [2. 2. 2.]]\n",
            "\n",
            " [[2. 2. 2.]\n",
            "  [2. 2. 2.]\n",
            "  [2. 2. 2.]\n",
            "  [2. 2. 2.]\n",
            "  [2. 2. 2.]]\n",
            "\n",
            " [[2. 2. 2.]\n",
            "  [2. 2. 2.]\n",
            "  [2. 2. 2.]\n",
            "  [2. 2. 2.]\n",
            "  [2. 2. 2.]]\n",
            "\n",
            " [[2. 2. 2.]\n",
            "  [2. 2. 2.]\n",
            "  [2. 2. 2.]\n",
            "  [2. 2. 2.]\n",
            "  [2. 2. 2.]]\n",
            "\n",
            " [[2. 2. 2.]\n",
            "  [2. 2. 2.]\n",
            "  [2. 2. 2.]\n",
            "  [2. 2. 2.]\n",
            "  [2. 2. 2.]]]\n"
          ]
        }
      ],
      "source": [
        "A = np.ones((5,5,3))\n",
        "B = 2*np.ones((5,5))\n",
        "print(A * B[:,:,None])"
      ]
    },
    {
      "cell_type": "markdown",
      "metadata": {
        "id": "38gbDwR0j8O6"
      },
      "source": [
        "#### 72. How to swap two rows of an array? (★★★) \n",
        "(**hint**: array\\[\\[\\]\\] = array\\[\\[\\]\\])"
      ]
    },
    {
      "cell_type": "code",
      "execution_count": null,
      "metadata": {
        "id": "mnduZ6_sj8O8",
        "colab": {
          "base_uri": "https://localhost:8080/"
        },
        "outputId": "a81f7cd3-b2a7-4d0a-ab3b-45fd7f67c4d0"
      },
      "outputs": [
        {
          "output_type": "stream",
          "name": "stdout",
          "text": [
            "[[ 5  6  7  8  9]\n",
            " [ 0  1  2  3  4]\n",
            " [10 11 12 13 14]\n",
            " [15 16 17 18 19]\n",
            " [20 21 22 23 24]]\n"
          ]
        }
      ],
      "source": [
        "A = np.arange(25).reshape(5,5)\n",
        "A[[0,1]] = A[[1,0]]\n",
        "print(A)"
      ]
    },
    {
      "cell_type": "markdown",
      "metadata": {
        "id": "kwq46_mRj8O-"
      },
      "source": [
        "#### 73. Consider a set of 10 triplets describing 10 triangles (with shared vertices), find the set of unique line segments composing all the  triangles (★★★) \n",
        "(**hint**: repeat, np.roll, np.sort, view, np.unique)"
      ]
    },
    {
      "cell_type": "code",
      "execution_count": null,
      "metadata": {
        "id": "278qSnwTj8PA",
        "colab": {
          "base_uri": "https://localhost:8080/"
        },
        "outputId": "012fc651-d918-4f27-a839-fe4b3296b661"
      },
      "outputs": [
        {
          "output_type": "stream",
          "name": "stdout",
          "text": [
            "[( 0, 26) ( 0, 44) (10, 41) (10, 99) (17, 93) (17, 94) (18, 29) (18, 35)\n",
            " (22, 30) (22, 31) (25, 64) (25, 73) (26, 44) (29, 35) (30, 31) (35, 75)\n",
            " (35, 93) (41, 99) (46, 47) (46, 50) (47, 50) (48, 63) (48, 67) (51, 68)\n",
            " (51, 92) (63, 67) (64, 73) (68, 92) (75, 93) (93, 94)]\n"
          ]
        }
      ],
      "source": [
        "faces = np.random.randint(0,100,(10,3))\n",
        "F = np.roll(faces.repeat(2,axis=1),-1,axis=1)\n",
        "F = F.reshape(len(F)*3,2)\n",
        "F = np.sort(F,axis=1)\n",
        "G = F.view( dtype=[('p0',F.dtype),('p1',F.dtype)] )\n",
        "G = np.unique(G)\n",
        "print(G)"
      ]
    },
    {
      "cell_type": "markdown",
      "metadata": {
        "id": "pu7RsMjsj8PA"
      },
      "source": [
        "#### 74. Given an array C that is a bincount, how to produce an array A such that np.bincount(A) == C? (★★★) \n",
        "(**hint**: np.repeat)"
      ]
    },
    {
      "cell_type": "code",
      "execution_count": null,
      "metadata": {
        "id": "2sW6jTo4j8PB",
        "colab": {
          "base_uri": "https://localhost:8080/"
        },
        "outputId": "0f2ceb87-2b26-44f8-ba56-fd5c29d5efb6"
      },
      "outputs": [
        {
          "output_type": "stream",
          "name": "stdout",
          "text": [
            "[1 1 2 3 4 4 6]\n"
          ]
        }
      ],
      "source": [
        "C = np.bincount([1,1,2,3,4,4,6])\n",
        "A = np.repeat(np.arange(len(C)), C)\n",
        "print(A)"
      ]
    },
    {
      "cell_type": "markdown",
      "metadata": {
        "id": "GMgcijZhj8PB"
      },
      "source": [
        "#### 75. How to compute averages using a sliding window over an array? (★★★) \n",
        "(**hint**: np.cumsum)"
      ]
    },
    {
      "cell_type": "code",
      "execution_count": null,
      "metadata": {
        "id": "UcPVUpMhj8PC",
        "colab": {
          "base_uri": "https://localhost:8080/"
        },
        "outputId": "a6a18986-20f9-4915-a04f-29d816d2de42"
      },
      "outputs": [
        {
          "output_type": "stream",
          "name": "stdout",
          "text": [
            "[ 1.  2.  3.  4.  5.  6.  7.  8.  9. 10. 11. 12. 13. 14. 15. 16. 17. 18.]\n"
          ]
        }
      ],
      "source": [
        "def moving_average(a, n=3) :\n",
        "    ret = np.cumsum(a, dtype=float)\n",
        "    ret[n:] = ret[n:] - ret[:-n]\n",
        "    return ret[n - 1:] / n\n",
        "Z = np.arange(20)\n",
        "print(moving_average(Z, n=3))"
      ]
    },
    {
      "cell_type": "markdown",
      "metadata": {
        "id": "zNHvq3Tyj8PC"
      },
      "source": [
        "#### 76. Consider a one-dimensional array Z, build a two-dimensional array whose first row is (Z\\[0\\],Z\\[1\\],Z\\[2\\]) and each subsequent row is  shifted by 1 (last row should be (Z\\[-3\\],Z\\[-2\\],Z\\[-1\\]) (★★★) \n",
        "(**hint**: from numpy.lib import stride_tricks)"
      ]
    },
    {
      "cell_type": "code",
      "execution_count": null,
      "metadata": {
        "id": "hL1-D7Kbj8PD",
        "colab": {
          "base_uri": "https://localhost:8080/"
        },
        "outputId": "572b5ff2-2eab-4f97-c012-6523f30442ec"
      },
      "outputs": [
        {
          "output_type": "stream",
          "name": "stdout",
          "text": [
            "[[0 1 2]\n",
            " [1 2 3]\n",
            " [2 3 4]\n",
            " [3 4 5]\n",
            " [4 5 6]\n",
            " [5 6 7]\n",
            " [6 7 8]\n",
            " [7 8 9]]\n"
          ]
        }
      ],
      "source": [
        "def rolling(a, window):\n",
        "    shape = (a.size - window + 1, window)\n",
        "    strides = (a.itemsize, a.itemsize)\n",
        "    return np.lib.stride_tricks.as_strided(a, shape=shape, strides=strides)\n",
        "Z = rolling(np.arange(10), 3)\n",
        "print(Z)"
      ]
    },
    {
      "cell_type": "markdown",
      "metadata": {
        "id": "NaeE-kOaj8PD"
      },
      "source": [
        "#### 77. How to negate a boolean, or to change the sign of a float inplace? (★★★) \n",
        "(**hint**: np.logical_not, np.negative)"
      ]
    },
    {
      "cell_type": "code",
      "execution_count": null,
      "metadata": {
        "id": "yUkmDAFxj8PE",
        "colab": {
          "base_uri": "https://localhost:8080/"
        },
        "outputId": "6d5038d3-f0c3-449c-8634-b4029bf5409f"
      },
      "outputs": [
        {
          "output_type": "stream",
          "name": "stdout",
          "text": [
            "original: \n",
            "[1 1 0 1 1 0 1 1 1 0 0 1 0 0 0 0 1 0 0 0 1 1 0 0 0 0 1 1 1 0 1 0 1 0 0 1 0\n",
            " 0 1 0 0 0 1 1 0 0 0 1 0 0 1 0 1 1 0 1 0 0 1 0 1 0 0 1 1 0 1 0 0 0 1 0 0 0\n",
            " 0 1 1 0 1 0 1 1 1 0 1 0 1 1 0 1 0 0 1 1 1 1 0 1 0 1]\n",
            "Negating a boolean: \n",
            "[0 0 1 0 0 1 0 0 0 1 1 0 1 1 1 1 0 1 1 1 0 0 1 1 1 1 0 0 0 1 0 1 0 1 1 0 1\n",
            " 1 0 1 1 1 0 0 1 1 1 0 1 1 0 1 0 0 1 0 1 1 0 1 0 1 1 0 0 1 0 1 1 1 0 1 1 1\n",
            " 1 0 0 1 0 1 0 0 0 1 0 1 0 0 1 0 1 1 0 0 0 0 1 0 1 0]\n",
            "original: \n",
            "[ 0.89044247  0.98914429  0.81038985 -0.7675316   0.22328983  0.17907484\n",
            "  0.44151106 -0.21053673  0.44207808 -0.04239741]\n",
            "Change the sign of float inplace: \n",
            "[-0.89044247 -0.98914429 -0.81038985  0.7675316  -0.22328983 -0.17907484\n",
            " -0.44151106  0.21053673 -0.44207808  0.04239741]\n"
          ]
        }
      ],
      "source": [
        "Z = np.random.randint(0,2,100)\n",
        "print ('original: ')\n",
        "print (Z)\n",
        "print('Negating a boolean: ')\n",
        "print(np.logical_not(Z, out=Z))\n",
        "\n",
        "\n",
        "Z = np.random.uniform(-1.0,1.0,10)\n",
        "print ('original: ')\n",
        "print (Z)\n",
        "print ('Change the sign of float inplace: ')\n",
        "print(np.negative(Z, out=Z))"
      ]
    },
    {
      "cell_type": "markdown",
      "metadata": {
        "id": "yH0KOWjbj8PE"
      },
      "source": [
        "#### 78. Consider 2 sets of points P0,P1 describing lines (2d) and a point p, how to compute distance from p to each line i  (P0\\[i\\],P1\\[i\\])? (★★★)"
      ]
    },
    {
      "cell_type": "code",
      "execution_count": null,
      "metadata": {
        "id": "UzniAwpBj8PF",
        "colab": {
          "base_uri": "https://localhost:8080/"
        },
        "outputId": "5463e924-7842-4aeb-b94b-837fb3fd6d75"
      },
      "outputs": [
        {
          "output_type": "stream",
          "name": "stdout",
          "text": [
            "[6.03748533 0.85772892 1.37991227 1.57713492 2.63860294 0.10476138\n",
            " 2.609908   0.97506521 5.56271507 9.78371654]\n"
          ]
        }
      ],
      "source": [
        "def distance(P0, P1, p):\n",
        "    T = P1 - P0\n",
        "    L = (T**2).sum(axis=1)\n",
        "    U = -((P0[:,0]-p[...,0])*T[:,0] + (P0[:,1]-p[...,1])*T[:,1]) / L\n",
        "    U = U.reshape(len(U),1)\n",
        "    D = P0 + U*T - p\n",
        "    return np.sqrt((D**2).sum(axis=1))\n",
        "\n",
        "P0 = np.random.uniform(-10,10,(10,2))\n",
        "P1 = np.random.uniform(-10,10,(10,2))\n",
        "p  = np.random.uniform(-10,10,( 1,2))\n",
        "print(distance(P0, P1, p))"
      ]
    },
    {
      "cell_type": "markdown",
      "metadata": {
        "id": "OM06n2noj8PF"
      },
      "source": [
        "#### 79. Consider 2 sets of points P0,P1 describing lines (2d) and a set of points P, how to compute distance from each point j (P\\[j\\]) to each line i (P0\\[i\\],P1\\[i\\])? (★★★)"
      ]
    },
    {
      "cell_type": "code",
      "execution_count": null,
      "metadata": {
        "id": "S43FXj96j8PF",
        "colab": {
          "base_uri": "https://localhost:8080/"
        },
        "outputId": "2f9e9003-b175-4741-fdd0-f45a58c01bfa"
      },
      "outputs": [
        {
          "output_type": "stream",
          "name": "stdout",
          "text": [
            "[[ 4.0523242   2.01144092  4.80261311  5.23300808  1.11332386]\n",
            " [ 1.04408982  3.0078359   2.34270149  3.06662142  8.58648522]\n",
            " [13.23437258  6.97000956  0.40199911 11.83645387 10.42942426]\n",
            " [ 0.53712855  4.24643734  3.20002504  4.05062075  9.11051905]\n",
            " [ 5.35409822  1.35597031  3.06491682  1.37299102 10.60615394]]\n"
          ]
        }
      ],
      "source": [
        "P0 = np.random.uniform(-10, 10, (5,2))\n",
        "P1 = np.random.uniform(-10,10,(5,2))\n",
        "p = np.random.uniform(-10, 10, (5,2))\n",
        "print (np.array([distance(P0,P1,p_i) for p_i in p]))"
      ]
    },
    {
      "cell_type": "markdown",
      "metadata": {
        "id": "26GG5m1Mj8PF"
      },
      "source": [
        "#### 80. Consider an arbitrary array, write a function that extract a subpart with a fixed shape and centered on a given element (pad with a `fill` value when necessary) (★★★) \n",
        "(**hint**: minimum, maximum)"
      ]
    },
    {
      "cell_type": "code",
      "execution_count": null,
      "metadata": {
        "id": "1cD9pXQtj8PG",
        "colab": {
          "base_uri": "https://localhost:8080/"
        },
        "outputId": "6965612a-b9da-4412-d7f1-1be6c7201755"
      },
      "outputs": [
        {
          "output_type": "stream",
          "name": "stdout",
          "text": [
            "[[8 7 1 1 1 1 8 4 3 5]\n",
            " [3 9 7 2 7 1 0 6 9 0]\n",
            " [8 9 1 7 4 8 6 3 8 7]\n",
            " [3 7 1 3 1 9 8 7 4 2]\n",
            " [0 7 7 8 6 7 9 1 9 1]\n",
            " [0 5 3 6 7 8 5 2 4 7]\n",
            " [6 4 0 9 4 8 7 8 5 8]\n",
            " [6 1 6 1 3 8 6 6 9 2]\n",
            " [7 1 9 7 4 6 5 5 5 2]\n",
            " [3 9 0 7 8 5 3 1 9 2]]\n",
            "[[0 0 0 0 0]\n",
            " [0 8 7 1 1]\n",
            " [0 3 9 7 2]\n",
            " [0 8 9 1 7]\n",
            " [0 3 7 1 3]]\n"
          ]
        },
        {
          "output_type": "stream",
          "name": "stderr",
          "text": [
            "/usr/local/lib/python3.7/dist-packages/ipykernel_launcher.py:23: FutureWarning: Using a non-tuple sequence for multidimensional indexing is deprecated; use `arr[tuple(seq)]` instead of `arr[seq]`. In the future this will be interpreted as an array index, `arr[np.array(seq)]`, which will result either in an error or a different result.\n"
          ]
        }
      ],
      "source": [
        "Z = np.random.randint(0,10,(10,10))\n",
        "shape = (5,5)\n",
        "fill  = 0\n",
        "position = (1,1)\n",
        "\n",
        "R = np.ones(shape, dtype=Z.dtype)*fill\n",
        "P  = np.array(list(position)).astype(int)\n",
        "Rs = np.array(list(R.shape)).astype(int)\n",
        "Zs = np.array(list(Z.shape)).astype(int)\n",
        "\n",
        "R_start = np.zeros((len(shape),)).astype(int)\n",
        "R_stop  = np.array(list(shape)).astype(int)\n",
        "Z_start = (P-Rs//2)\n",
        "Z_stop  = (P+Rs//2)+Rs%2\n",
        "\n",
        "R_start = (R_start - np.minimum(Z_start,0)).tolist()\n",
        "Z_start = (np.maximum(Z_start,0)).tolist()\n",
        "R_stop = np.maximum(R_start, (R_stop - np.maximum(Z_stop-Zs,0))).tolist()\n",
        "Z_stop = (np.minimum(Z_stop,Zs)).tolist()\n",
        "\n",
        "r = [slice(start,stop) for start,stop in zip(R_start,R_stop)]\n",
        "z = [slice(start,stop) for start,stop in zip(Z_start,Z_stop)]\n",
        "R[r] = Z[z]\n",
        "print(Z)\n",
        "print(R)"
      ]
    },
    {
      "cell_type": "markdown",
      "metadata": {
        "id": "xbm21RkQj8PG"
      },
      "source": [
        "#### 81. Consider an array Z = \\[1,2,3,4,5,6,7,8,9,10,11,12,13,14\\], how to generate an array R = \\[\\[1,2,3,4\\], \\[2,3,4,5\\], \\[3,4,5,6\\], ..., \\[11,12,13,14\\]\\]? (★★★) \n",
        "(**hint**: stride\\_tricks.as\\_strided)"
      ]
    },
    {
      "cell_type": "code",
      "execution_count": null,
      "metadata": {
        "id": "FLAj9-zOj8PH",
        "colab": {
          "base_uri": "https://localhost:8080/"
        },
        "outputId": "32dcb05c-70be-478b-b483-93a7bda89e75"
      },
      "outputs": [
        {
          "output_type": "stream",
          "name": "stdout",
          "text": [
            "original: \n",
            "[ 1  2  3  4  5  6  7  8  9 10 11 12 13 14]\n",
            "after strides: \n",
            "[[ 1  2  3  4]\n",
            " [ 2  3  4  5]\n",
            " [ 3  4  5  6]\n",
            " [ 4  5  6  7]\n",
            " [ 5  6  7  8]\n",
            " [ 6  7  8  9]\n",
            " [ 7  8  9 10]\n",
            " [ 8  9 10 11]\n",
            " [ 9 10 11 12]\n",
            " [10 11 12 13]\n",
            " [11 12 13 14]]\n"
          ]
        }
      ],
      "source": [
        "Z = np.arange(1,15,dtype=int)\n",
        "\n",
        "def rolling(a, window):\n",
        "    shape = (a.size - window + 1, window)\n",
        "    strides = (a.itemsize, a.itemsize)\n",
        "    return np.lib.stride_tricks.as_strided(a, shape=shape, strides=strides)\n",
        "R = rolling(Z, 4)\n",
        "print ('original: ')\n",
        "print (Z)\n",
        "print ('after strides: ')\n",
        "print(R)"
      ]
    },
    {
      "cell_type": "markdown",
      "metadata": {
        "id": "SJg5oIY5j8PH"
      },
      "source": [
        "#### 82. Compute a matrix rank (★★★) \n",
        "(**hint**: np.linalg.svd) (suggestion: np.linalg.svd)"
      ]
    },
    {
      "cell_type": "code",
      "execution_count": null,
      "metadata": {
        "id": "HT_t9zRJj8PI",
        "colab": {
          "base_uri": "https://localhost:8080/"
        },
        "outputId": "74ffc665-c509-40d3-d5a0-f7749b05f4aa"
      },
      "outputs": [
        {
          "output_type": "stream",
          "name": "stdout",
          "text": [
            "10\n"
          ]
        }
      ],
      "source": [
        "Z = np.random.uniform(0,1,(10,10))\n",
        "U, S, V = np.linalg.svd(Z) # Singular Value Decomposition\n",
        "rank = np.sum(S > 1e-10)\n",
        "print (rank)"
      ]
    },
    {
      "cell_type": "markdown",
      "metadata": {
        "id": "fWAWmeE4j8PI"
      },
      "source": [
        "#### 83. How to find the most frequent value in an array? \n",
        "(**hint**: np.bincount, argmax)"
      ]
    },
    {
      "cell_type": "code",
      "execution_count": null,
      "metadata": {
        "id": "EVWD7wCDj8PI",
        "colab": {
          "base_uri": "https://localhost:8080/"
        },
        "outputId": "32790723-a837-4396-e9a2-4172351ed922"
      },
      "outputs": [
        {
          "output_type": "stream",
          "name": "stdout",
          "text": [
            "[1 9 9 0 6 8 0 6 8 1 4 7 9 7 8 1 5 2 4 1 0 4 3 7 0 5 0 2 3 5 4 3 4 0 1 0 3\n",
            " 8 6 4 2 1 6 1 5 9 6 8 3 5]\n",
            "rank: 0\n"
          ]
        }
      ],
      "source": [
        "Z = np.random.randint(0,10,50)\n",
        "print (Z)\n",
        "print('rank:', np.bincount(Z).argmax())"
      ]
    },
    {
      "cell_type": "markdown",
      "metadata": {
        "id": "_l-SL0KWj8PJ"
      },
      "source": [
        "#### 84. Extract all the contiguous 3x3 blocks from a random 10x10 matrix (★★★) \n",
        "(**hint**: stride\\_tricks.as\\_strided)"
      ]
    },
    {
      "cell_type": "code",
      "execution_count": null,
      "metadata": {
        "id": "eXwVUGy4j8PJ",
        "colab": {
          "base_uri": "https://localhost:8080/"
        },
        "outputId": "27800d7c-6579-46e7-b9f5-355203257079"
      },
      "outputs": [
        {
          "output_type": "stream",
          "name": "stdout",
          "text": [
            "[[[[2 3 0]\n",
            "   [4 2 1]\n",
            "   [1 0 1]]\n",
            "\n",
            "  [[3 0 0]\n",
            "   [2 1 2]\n",
            "   [0 1 4]]\n",
            "\n",
            "  [[0 0 1]\n",
            "   [1 2 2]\n",
            "   [1 4 3]]\n",
            "\n",
            "  [[0 1 0]\n",
            "   [2 2 0]\n",
            "   [4 3 4]]]\n",
            "\n",
            "\n",
            " [[[4 2 1]\n",
            "   [1 0 1]\n",
            "   [4 0 3]]\n",
            "\n",
            "  [[2 1 2]\n",
            "   [0 1 4]\n",
            "   [0 3 3]]\n",
            "\n",
            "  [[1 2 2]\n",
            "   [1 4 3]\n",
            "   [3 3 3]]\n",
            "\n",
            "  [[2 2 0]\n",
            "   [4 3 4]\n",
            "   [3 3 2]]]\n",
            "\n",
            "\n",
            " [[[1 0 1]\n",
            "   [4 0 3]\n",
            "   [0 1 2]]\n",
            "\n",
            "  [[0 1 4]\n",
            "   [0 3 3]\n",
            "   [1 2 2]]\n",
            "\n",
            "  [[1 4 3]\n",
            "   [3 3 3]\n",
            "   [2 2 1]]\n",
            "\n",
            "  [[4 3 4]\n",
            "   [3 3 2]\n",
            "   [2 1 2]]]\n",
            "\n",
            "\n",
            " [[[4 0 3]\n",
            "   [0 1 2]\n",
            "   [2 1 2]]\n",
            "\n",
            "  [[0 3 3]\n",
            "   [1 2 2]\n",
            "   [1 2 0]]\n",
            "\n",
            "  [[3 3 3]\n",
            "   [2 2 1]\n",
            "   [2 0 2]]\n",
            "\n",
            "  [[3 3 2]\n",
            "   [2 1 2]\n",
            "   [0 2 2]]]]\n"
          ]
        }
      ],
      "source": [
        "Z = np.random.randint(0,5,(6,6))\n",
        "n = 3\n",
        "i = 1 + (Z.shape[0]-3)\n",
        "j = 1 + (Z.shape[1]-3)\n",
        "C = np.lib.stride_tricks.as_strided(Z, shape=(i, j, n, n), strides=Z.strides + Z.strides)\n",
        "print(C)"
      ]
    },
    {
      "cell_type": "markdown",
      "metadata": {
        "id": "0754bSEWj8PJ"
      },
      "source": [
        "#### 85. Create a 2D array subclass such that Z\\[i,j\\] == Z\\[j,i\\] (★★★) \n",
        "(**hint**: class method)"
      ]
    },
    {
      "cell_type": "code",
      "execution_count": null,
      "metadata": {
        "id": "jfMDGpzqj8PK",
        "colab": {
          "base_uri": "https://localhost:8080/"
        },
        "outputId": "3f506d0e-ba1f-4c20-c39c-6da64ddf186c"
      },
      "outputs": [
        {
          "output_type": "stream",
          "name": "stdout",
          "text": [
            "[[ 9  7  7  7 13]\n",
            " [ 7  3 10  9 15]\n",
            " [ 7 10  4 42 10]\n",
            " [ 7  9 42  1 10]\n",
            " [13 15 10 10  0]]\n"
          ]
        }
      ],
      "source": [
        "class Symetric(np.ndarray):\n",
        "    def __setitem__(self, index, value):\n",
        "        i,j = index\n",
        "        super(Symetric, self).__setitem__((i,j), value)\n",
        "        super(Symetric, self).__setitem__((j,i), value)\n",
        "\n",
        "def symetric(Z):\n",
        "    return np.asarray(Z + Z.T - np.diag(Z.diagonal())).view(Symetric)\n",
        "\n",
        "S = symetric(np.random.randint(0,10,(5,5)))\n",
        "S[2,3] = 42\n",
        "print(S)"
      ]
    },
    {
      "cell_type": "markdown",
      "metadata": {
        "id": "lkYZqTX2j8PK"
      },
      "source": [
        "#### 86. Consider a set of p matrices wich shape (n,n) and a set of p vectors with shape (n,1). How to compute the sum of of the p matrix products at once? (result has shape (n,1)) (★★★) \n",
        "(**hint**: np.tensordot)"
      ]
    },
    {
      "cell_type": "code",
      "execution_count": null,
      "metadata": {
        "id": "UfkQU2JBj8PK",
        "colab": {
          "base_uri": "https://localhost:8080/"
        },
        "outputId": "3c670c62-9097-4e0d-9e65-0106d94dc624"
      },
      "outputs": [
        {
          "output_type": "stream",
          "name": "stdout",
          "text": [
            "[[200.]\n",
            " [200.]\n",
            " [200.]\n",
            " [200.]\n",
            " [200.]\n",
            " [200.]\n",
            " [200.]\n",
            " [200.]\n",
            " [200.]\n",
            " [200.]\n",
            " [200.]\n",
            " [200.]\n",
            " [200.]\n",
            " [200.]\n",
            " [200.]\n",
            " [200.]\n",
            " [200.]\n",
            " [200.]\n",
            " [200.]\n",
            " [200.]]\n"
          ]
        }
      ],
      "source": [
        "p, n = 10, 20\n",
        "M = np.ones((p,n,n))\n",
        "V = np.ones((p,n,1))\n",
        "S = np.tensordot(M, V, axes=[[0, 2], [0, 1]])\n",
        "print(S)"
      ]
    },
    {
      "cell_type": "markdown",
      "metadata": {
        "id": "67GF_lwVj8PL"
      },
      "source": [
        "#### 87. Consider a 16x16 array, how to get the block-sum (block size is 4x4)? (★★★) \n",
        "(**hint**: np.add.reduceat)"
      ]
    },
    {
      "cell_type": "code",
      "execution_count": null,
      "metadata": {
        "id": "txWiu9Mqj8PL",
        "colab": {
          "base_uri": "https://localhost:8080/"
        },
        "outputId": "ee08e924-f2c2-4b39-f0a6-e1fa644d6349"
      },
      "outputs": [
        {
          "output_type": "stream",
          "name": "stdout",
          "text": [
            "input array\n",
            "[[1. 1. 1. 1. 1. 1. 1. 1. 1. 1. 1. 1. 1. 1. 1. 1.]\n",
            " [1. 1. 1. 1. 1. 1. 1. 1. 1. 1. 1. 1. 1. 1. 1. 1.]\n",
            " [1. 1. 1. 1. 1. 1. 1. 1. 1. 1. 1. 1. 1. 1. 1. 1.]\n",
            " [1. 1. 1. 1. 1. 1. 1. 1. 1. 1. 1. 1. 1. 1. 1. 1.]\n",
            " [1. 1. 1. 1. 1. 1. 1. 1. 1. 1. 1. 1. 1. 1. 1. 1.]\n",
            " [1. 1. 1. 1. 1. 1. 1. 1. 1. 1. 1. 1. 1. 1. 1. 1.]\n",
            " [1. 1. 1. 1. 1. 1. 1. 1. 1. 1. 1. 1. 1. 1. 1. 1.]\n",
            " [1. 1. 1. 1. 1. 1. 1. 1. 1. 1. 1. 1. 1. 1. 1. 1.]\n",
            " [1. 1. 1. 1. 1. 1. 1. 1. 1. 1. 1. 1. 1. 1. 1. 1.]\n",
            " [1. 1. 1. 1. 1. 1. 1. 1. 1. 1. 1. 1. 1. 1. 1. 1.]\n",
            " [1. 1. 1. 1. 1. 1. 1. 1. 1. 1. 1. 1. 1. 1. 1. 1.]\n",
            " [1. 1. 1. 1. 1. 1. 1. 1. 1. 1. 1. 1. 1. 1. 1. 1.]\n",
            " [1. 1. 1. 1. 1. 1. 1. 1. 1. 1. 1. 1. 1. 1. 1. 1.]\n",
            " [1. 1. 1. 1. 1. 1. 1. 1. 1. 1. 1. 1. 1. 1. 1. 1.]\n",
            " [1. 1. 1. 1. 1. 1. 1. 1. 1. 1. 1. 1. 1. 1. 1. 1.]\n",
            " [1. 1. 1. 1. 1. 1. 1. 1. 1. 1. 1. 1. 1. 1. 1. 1.]]\n",
            "block sum\n",
            "[[16. 16. 16. 16.]\n",
            " [16. 16. 16. 16.]\n",
            " [16. 16. 16. 16.]\n",
            " [16. 16. 16. 16.]]\n"
          ]
        }
      ],
      "source": [
        "Z = np.ones((16,16))\n",
        "k = 4\n",
        "S = np.add.reduceat(np.add.reduceat(Z, np.arange(0, Z.shape[0], k), axis=0),\n",
        "                                       np.arange(0, Z.shape[1], k), axis=1)\n",
        "print ('input array')\n",
        "print (Z)\n",
        "print ('block sum')\n",
        "print (S)"
      ]
    },
    {
      "cell_type": "markdown",
      "metadata": {
        "id": "zQDi3a1Sj8PL"
      },
      "source": [
        "#### 88. How to implement the Game of Life using numpy arrays? (★★★)"
      ]
    },
    {
      "cell_type": "code",
      "execution_count": null,
      "metadata": {
        "id": "vfdXXYk6j8PL"
      },
      "outputs": [],
      "source": [
        "def iterate(Z):\n",
        "    # Count neighbours\n",
        "    N = (Z[0:-2,0:-2] + Z[0:-2,1:-1] + Z[0:-2,2:] +\n",
        "         Z[1:-1,0:-2]                + Z[1:-1,2:] +\n",
        "         Z[2:  ,0:-2] + Z[2:  ,1:-1] + Z[2:  ,2:])\n",
        "\n",
        "    # Apply rules\n",
        "    birth = (N==3) & (Z[1:-1,1:-1]==0)\n",
        "    survive = ((N==2) | (N==3)) & (Z[1:-1,1:-1]==1)\n",
        "    Z[...] = 0\n",
        "    Z[1:-1,1:-1][birth | survive] = 1\n",
        "    return Z\n",
        "\n",
        "Z = np.random.randint(0,2,(50,50))\n",
        "for i in range(100): Z = iterate(Z)"
      ]
    },
    {
      "cell_type": "markdown",
      "metadata": {
        "id": "BYkLgjOrj8PM"
      },
      "source": [
        "#### 89. How to get the n largest values of an array (★★★) \n",
        "(**hint**: np.argsort | np.argpartition)"
      ]
    },
    {
      "cell_type": "code",
      "execution_count": null,
      "metadata": {
        "id": "FEhsVY3Wj8PM",
        "colab": {
          "base_uri": "https://localhost:8080/"
        },
        "outputId": "f2f89e41-c8ee-4b60-8180-85dbfc7710b2"
      },
      "outputs": [
        {
          "output_type": "stream",
          "name": "stdout",
          "text": [
            "[9995 9996 9997 9998 9999]\n",
            "[9999 9995 9997 9998 9996]\n"
          ]
        }
      ],
      "source": [
        "Z = np.arange(10000)\n",
        "np.random.shuffle(Z)\n",
        "n = 5\n",
        "\n",
        "# Slow\n",
        "print (Z[np.argsort(Z)[-n:]])\n",
        "\n",
        "# Fast\n",
        "print (Z[np.argpartition(-Z,n)[:n]])"
      ]
    },
    {
      "cell_type": "markdown",
      "metadata": {
        "id": "cFJMd3kxj8PN"
      },
      "source": [
        "#### 90. Given an arbitrary number of vectors, build the cartesian product (every combinations of every item) (★★★) \n",
        "(**hint**: np.indices)"
      ]
    },
    {
      "cell_type": "code",
      "execution_count": null,
      "metadata": {
        "scrolled": true,
        "id": "TAeeLgiyj8PN",
        "colab": {
          "base_uri": "https://localhost:8080/"
        },
        "outputId": "3a3e24e3-98a4-4f0a-fa31-4bc993246df5"
      },
      "outputs": [
        {
          "output_type": "stream",
          "name": "stdout",
          "text": [
            "[[1 4 6]\n",
            " [1 4 7]\n",
            " [1 5 6]\n",
            " [1 5 7]\n",
            " [2 4 6]\n",
            " [2 4 7]\n",
            " [2 5 6]\n",
            " [2 5 7]\n",
            " [3 4 6]\n",
            " [3 4 7]\n",
            " [3 5 6]\n",
            " [3 5 7]]\n"
          ]
        }
      ],
      "source": [
        "def cartesian(arrays):\n",
        "    arrays = [np.asarray(a) for a in arrays]\n",
        "    shape = (len(x) for x in arrays)\n",
        "\n",
        "    ix = np.indices(shape, dtype=int)\n",
        "    ix = ix.reshape(len(arrays), -1).T\n",
        "\n",
        "    for n, arr in enumerate(arrays):\n",
        "        ix[:, n] = arrays[n][ix[:, n]]\n",
        "\n",
        "    return ix\n",
        "\n",
        "print (cartesian(([1, 2, 3], [4, 5], [6, 7])))"
      ]
    },
    {
      "cell_type": "markdown",
      "metadata": {
        "id": "Wf1YvTAZj8PN"
      },
      "source": [
        "#### 91. How to create a record array from a regular array? (★★★) \n",
        "(**hint**: np.core.records.fromarrays)"
      ]
    },
    {
      "cell_type": "code",
      "execution_count": null,
      "metadata": {
        "id": "7aV9nmBuj8PO"
      },
      "outputs": [],
      "source": [
        "Z = np.array([(\"Hello\", 2.5, 3),\n",
        "              (\"World\", 3.6, 2)])\n",
        "R = np.core.records.fromarrays(Z.T,\n",
        "                               names='col1, col2, col3',\n",
        "                               formats = 'S8, f8, i8')"
      ]
    },
    {
      "cell_type": "markdown",
      "metadata": {
        "id": "9jO67-CRj8PO"
      },
      "source": [
        "#### 92. Consider a large vector Z, compute Z to the power of 3 using 3 different methods (★★★) \n",
        "(**hint**: np.power, \\*, np.einsum)"
      ]
    },
    {
      "cell_type": "code",
      "execution_count": null,
      "metadata": {
        "id": "3plVVRSFj8PP",
        "colab": {
          "base_uri": "https://localhost:8080/"
        },
        "outputId": "14ecbfa4-35b9-4a49-96f1-dd506463b3e5"
      },
      "outputs": [
        {
          "output_type": "stream",
          "name": "stdout",
          "text": [
            "4.2 s ± 395 ms per loop (mean ± std. dev. of 7 runs, 1 loop each)\n",
            "183 ms ± 36.2 ms per loop (mean ± std. dev. of 7 runs, 10 loops each)\n",
            "137 ms ± 11.7 ms per loop (mean ± std. dev. of 7 runs, 10 loops each)\n"
          ]
        }
      ],
      "source": [
        "x = np.random.rand(int(5e7))\n",
        "\n",
        "%timeit np.power(x,3)\n",
        "%timeit x*x*x\n",
        "%timeit np.einsum('i,i,i->i',x,x,x)"
      ]
    },
    {
      "cell_type": "markdown",
      "metadata": {
        "id": "y-46qK9Lj8PP"
      },
      "source": [
        "#### 93. Consider two arrays A and B of shape (8,3) and (2,2). How to find rows of A that contain elements of each row of B regardless of the order of the elements in B? (★★★) \n",
        "(**hint**: np.where)"
      ]
    },
    {
      "cell_type": "code",
      "execution_count": null,
      "metadata": {
        "id": "AK_49Tqdj8PP",
        "colab": {
          "base_uri": "https://localhost:8080/"
        },
        "outputId": "f6469359-a175-4556-f559-e1e98bf22f61"
      },
      "outputs": [
        {
          "output_type": "stream",
          "name": "stdout",
          "text": [
            "[0 1 2 3 4 5 6 7]\n"
          ]
        }
      ],
      "source": [
        "A = np.random.randint(0,5,(8,3))\n",
        "B = np.random.randint(0,5,(2,2))\n",
        "\n",
        "C = (A[..., np.newaxis, np.newaxis] == B)\n",
        "rows = (C.sum(axis=(1,2,3)) >= B.shape[1]).nonzero()[0]\n",
        "print(rows)"
      ]
    },
    {
      "cell_type": "markdown",
      "metadata": {
        "id": "UT-PZy4Aj8PQ"
      },
      "source": [
        "#### 94. Considering a 10x3 matrix, extract rows with unequal values (e.g. \\[2,2,3\\]) (★★★)"
      ]
    },
    {
      "cell_type": "code",
      "execution_count": null,
      "metadata": {
        "id": "U6fyUJ_0j8PQ",
        "colab": {
          "base_uri": "https://localhost:8080/"
        },
        "outputId": "40f325ba-dd54-423e-8271-db68f57ea0a1"
      },
      "outputs": [
        {
          "output_type": "stream",
          "name": "stdout",
          "text": [
            "[[2 1 3]\n",
            " [1 2 3]\n",
            " [2 1 2]\n",
            " [0 1 3]\n",
            " [3 1 3]\n",
            " [0 3 4]\n",
            " [1 0 3]\n",
            " [4 4 3]\n",
            " [2 1 1]\n",
            " [1 1 1]]\n",
            "[[2 1 3]\n",
            " [1 2 3]\n",
            " [2 1 2]\n",
            " [0 1 3]\n",
            " [3 1 3]\n",
            " [0 3 4]\n",
            " [1 0 3]\n",
            " [4 4 3]\n",
            " [2 1 1]]\n"
          ]
        }
      ],
      "source": [
        "Z = np.random.randint(0,5,(10,3))\n",
        "E = np.logical_and.reduce(Z[:,1:] == Z[:,:-1], axis=1)\n",
        "U = Z[~E]\n",
        "print(Z)\n",
        "print(U)"
      ]
    },
    {
      "cell_type": "markdown",
      "metadata": {
        "id": "2523ILbsj8PQ"
      },
      "source": [
        "#### 95. Convert a vector of ints into a matrix binary representation (★★★) \n",
        "(**hint**: np.unpackbits)"
      ]
    },
    {
      "cell_type": "code",
      "execution_count": null,
      "metadata": {
        "id": "B82LnTL1j8PR",
        "colab": {
          "base_uri": "https://localhost:8080/"
        },
        "outputId": "10aa4ecd-7e53-446f-bb23-90cc786d47c2"
      },
      "outputs": [
        {
          "output_type": "stream",
          "name": "stdout",
          "text": [
            "[[0 0 0 0 0 0 0 0]\n",
            " [0 0 0 0 0 0 0 1]\n",
            " [0 0 0 0 0 0 1 0]\n",
            " [0 0 0 0 0 0 1 1]\n",
            " [0 0 0 0 1 1 1 1]\n",
            " [0 0 0 1 0 0 0 0]\n",
            " [0 0 1 0 0 0 0 0]\n",
            " [0 1 0 0 0 0 0 0]\n",
            " [1 0 0 0 0 0 0 0]]\n"
          ]
        }
      ],
      "source": [
        "I = np.array([0, 1, 2, 3, 15, 16, 32, 64, 128])\n",
        "B = ((I.reshape(-1,1) & (2**np.arange(8))) != 0).astype(int)\n",
        "print(B[:,::-1])"
      ]
    },
    {
      "cell_type": "markdown",
      "metadata": {
        "id": "JT-QBM-Ij8PR"
      },
      "source": [
        "#### 96. Given a two dimensional array, how to extract unique rows? (★★★) \n",
        "(**hint**: np.ascontiguousarray)"
      ]
    },
    {
      "cell_type": "code",
      "execution_count": null,
      "metadata": {
        "id": "zbEsfIdUj8PR",
        "colab": {
          "base_uri": "https://localhost:8080/"
        },
        "outputId": "58f3d8e4-ef3c-4015-c5f0-5fa0a41ba7b5"
      },
      "outputs": [
        {
          "output_type": "stream",
          "name": "stdout",
          "text": [
            "[[0 0 1]\n",
            " [0 1 0]\n",
            " [1 0 1]]\n"
          ]
        }
      ],
      "source": [
        "Z = np.random.randint(0,2,(6,3))\n",
        "T = np.ascontiguousarray(Z).view(np.dtype((np.void, Z.dtype.itemsize * Z.shape[1])))\n",
        "_, idx = np.unique(T, return_index=True)\n",
        "uZ = Z[idx]\n",
        "print(uZ)"
      ]
    },
    {
      "cell_type": "markdown",
      "metadata": {
        "id": "sNivkAUTj8PR"
      },
      "source": [
        "#### 97. Considering 2 vectors A & B, write the einsum equivalent of inner, outer, sum, and mul function (★★★) \n",
        "(**hint**: np.einsum)"
      ]
    },
    {
      "cell_type": "code",
      "execution_count": null,
      "metadata": {
        "id": "mLc3uVTZj8PS",
        "colab": {
          "base_uri": "https://localhost:8080/"
        },
        "outputId": "2a0045dd-f4f6-4b5d-ce30-bd4a0511009f"
      },
      "outputs": [
        {
          "output_type": "stream",
          "name": "stdout",
          "text": [
            "[0 1 2]\n"
          ]
        }
      ],
      "source": [
        "A= np.arange(3)\n",
        "B =  np.arange(12).reshape(3,4)\n",
        "print (A)"
      ]
    },
    {
      "cell_type": "markdown",
      "metadata": {
        "id": "HBjRyzmNj8PS"
      },
      "source": [
        "#### 98. Considering a path described by two vectors (X,Y), how to sample it using equidistant samples (★★★)? \n",
        "(**hint**: np.cumsum, np.interp)"
      ]
    },
    {
      "cell_type": "code",
      "execution_count": null,
      "metadata": {
        "collapsed": true,
        "id": "fPYzHkYij8PS"
      },
      "outputs": [],
      "source": [
        "phi = np.arange(0, 10*np.pi, 0.1)\n",
        "a = 1\n",
        "x = a*phi*np.cos(phi)\n",
        "y = a*phi*np.sin(phi)\n",
        "\n",
        "dr = (np.diff(x)**2 + np.diff(y)**2)**.5 # segment lengths\n",
        "r = np.zeros_like(x)\n",
        "r[1:] = np.cumsum(dr)                # integrate path\n",
        "r_int = np.linspace(0, r.max(), 200) # regular spaced path\n",
        "x_int = np.interp(r_int, r, x)       # integrate path\n",
        "y_int = np.interp(r_int, r, y)"
      ]
    },
    {
      "cell_type": "markdown",
      "metadata": {
        "id": "k22hutIxj8PS"
      },
      "source": [
        "#### 99. Given an integer n and a 2D array X, select from X the rows which can be interpreted as draws from a multinomial distribution with n degrees, i.e., the rows which only contain integers and which sum to n. (★★★) \n",
        "(**hint**: np.logical\\_and.reduce, np.mod)"
      ]
    },
    {
      "cell_type": "code",
      "execution_count": null,
      "metadata": {
        "id": "NsneuuOqj8PT",
        "colab": {
          "base_uri": "https://localhost:8080/"
        },
        "outputId": "b3444960-75e1-47e2-d790-8c557c83ff26"
      },
      "outputs": [
        {
          "output_type": "stream",
          "name": "stdout",
          "text": [
            "[[2. 0. 1. 1.]]\n"
          ]
        }
      ],
      "source": [
        "X = np.asarray([[1.0, 0.0, 3.0, 8.0],\n",
        "                [2.0, 0.0, 1.0, 1.0],\n",
        "                [1.5, 2.5, 1.0, 0.0]])\n",
        "n = 4\n",
        "M = np.logical_and.reduce(np.mod(X, 1) == 0, axis=-1)\n",
        "M &= (X.sum(axis=-1) == n)\n",
        "print(X[M])"
      ]
    },
    {
      "cell_type": "markdown",
      "metadata": {
        "id": "etIFJQiAj8PT"
      },
      "source": [
        "#### 100. Compute bootstrapped 95% confidence intervals for the mean of a 1D array X (i.e., resample the elements of an array with replacement N times, compute the mean of each sample, and then compute percentiles over the means). (★★★) \n",
        "(**hint**: np.percentile)"
      ]
    },
    {
      "cell_type": "code",
      "execution_count": null,
      "metadata": {
        "id": "5CiAGyI4j8PT",
        "colab": {
          "base_uri": "https://localhost:8080/"
        },
        "outputId": "00e4cb8a-92b5-4202-e044-d4ec327abefc"
      },
      "outputs": [
        {
          "output_type": "stream",
          "name": "stdout",
          "text": [
            "[-0.20850393  0.19630228]\n"
          ]
        }
      ],
      "source": [
        "X = np.random.randn(100) # random 1D array\n",
        "N = 1000 # number of bootstrap samples\n",
        "idx = np.random.randint(0, X.size, (N, X.size))\n",
        "means = X[idx].mean(axis=1)\n",
        "confint = np.percentile(means, [2.5, 97.5])\n",
        "print(confint)"
      ]
    }
  ],
  "metadata": {
    "kernelspec": {
      "display_name": "Python 3",
      "language": "python",
      "name": "python3"
    },
    "language_info": {
      "codemirror_mode": {
        "name": "ipython",
        "version": 3
      },
      "file_extension": ".py",
      "mimetype": "text/x-python",
      "name": "python",
      "nbconvert_exporter": "python",
      "pygments_lexer": "ipython3",
      "version": "3.8.3"
    },
    "colab": {
      "provenance": [],
      "collapsed_sections": [
        "ljxavuw9j8N3",
        "HUT_sCiUj8N4",
        "4iH-_U_9j8N5",
        "Rc99O-Vbj8N7",
        "YO3XGmpfj8OB",
        "LJVd_Li2j8OE",
        "yrN9_Yyqj8OF",
        "0OUJAr7yj8OF",
        "rJaNf4JUj8OI",
        "rpS4D7Y-j8OJ",
        "C3GeP-lfj8OK",
        "yh4z0ASpj8OK",
        "3CRzwWwSj8OL",
        "mmukBZjsj8OM",
        "MzzwuqR2j8ON",
        "wfWMvdbJj8OP",
        "1pFsIK1-j8OR",
        "3S2waS4dj8OS",
        "Wzy6P9JMj8OS",
        "XX6sZlXbj8OT",
        "0xmAhRWtj8OU",
        "SEr5wX0qj8OV",
        "f27oC5n1j8OV",
        "phTf_Zavj8OW",
        "f4zCh6hoj8OX",
        "O3ClwTOsj8OY",
        "Wn6jTbjLj8Oa",
        "6tbr-kbhj8Ob",
        "tFQxY17kj8Ob",
        "2sqh86b9j8Od",
        "7gyUZiRfj8Oe",
        "M4cUI3mRj8Oe",
        "dsaa5vWUj8Of",
        "9Z0ZGN75j8Og",
        "jU5P5Ulrj8Oh",
        "YOfJ4lCbj8Oh",
        "Jd-E-x2qj8Oi",
        "8O7FHnNTj8Oi",
        "1AT9nZc8j8Oj",
        "FfMK30l-j8Ok",
        "ihH9pXDFj8Ol",
        "MVYAVijAj8Ol",
        "J9lN-TUBj8Om",
        "PPyCW4s9j8Oo",
        "6A2HD4AVj8Op",
        "HH-dzKptj8Oq",
        "SLbYGAUqj8Or",
        "Y0y_4Im4j8Or",
        "mRf2ID19j8Os",
        "nvsGU2Xhj8Ot",
        "CzJBc51Lj8Ou",
        "3yETk7Vbj8Ov",
        "eNmUTQH9j8Ox",
        "CXKuRUdGj8Oy",
        "qqlilK2ij8Oz",
        "YX6JWvb7j8O2",
        "19W4ULm7j8O2",
        "9COOZnf8j8O3",
        "qfs7HfuPj8O4",
        "38gbDwR0j8O6",
        "kwq46_mRj8O-",
        "pu7RsMjsj8PA",
        "GMgcijZhj8PB",
        "zNHvq3Tyj8PC",
        "NaeE-kOaj8PD",
        "yH0KOWjbj8PE",
        "OM06n2noj8PF",
        "26GG5m1Mj8PF",
        "xbm21RkQj8PG",
        "SJg5oIY5j8PH",
        "fWAWmeE4j8PI",
        "_l-SL0KWj8PJ",
        "0754bSEWj8PJ",
        "lkYZqTX2j8PK",
        "67GF_lwVj8PL",
        "zQDi3a1Sj8PL",
        "BYkLgjOrj8PM",
        "cFJMd3kxj8PN",
        "Wf1YvTAZj8PN",
        "9jO67-CRj8PO",
        "y-46qK9Lj8PP",
        "UT-PZy4Aj8PQ",
        "2523ILbsj8PQ",
        "JT-QBM-Ij8PR",
        "sNivkAUTj8PR",
        "HBjRyzmNj8PS",
        "k22hutIxj8PS",
        "etIFJQiAj8PT"
      ],
      "include_colab_link": true
    }
  },
  "nbformat": 4,
  "nbformat_minor": 0
}